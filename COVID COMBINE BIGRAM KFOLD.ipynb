{
 "cells": [
  {
   "cell_type": "code",
   "execution_count": 1,
   "id": "73e9dee8",
   "metadata": {},
   "outputs": [],
   "source": [
    "import nltk\n",
    "import pandas as pd\n",
    "from nltk.corpus import stopwords  # Importing Natural Language Toolkit\n",
    "\n",
    "messages=pd.read_csv(r'C:\\Users\\DELL\\Desktop\\RNTU\\dataset prepared\\Covid19\\covid combine\\COVID19__combine Bigram_Combine NEW sent pol.csv',header=None,names=[\"sentiment\",\"text\",\"polarity\",\"repetations\"])\n",
    "from nltk.corpus import stopwords\n",
    "import nltk\n",
    "from nltk.stem import PorterStemmer\n",
    "#from nltk.stem import WordNetLemmatizer\n"
   ]
  },
  {
   "cell_type": "code",
   "execution_count": 2,
   "id": "bd87875c",
   "metadata": {
    "scrolled": true
   },
   "outputs": [
    {
     "name": "stdout",
     "output_type": "stream",
     "text": [
      "           polarity   repetations\n",
      "count  54937.000000  54937.000000\n",
      "mean       0.012156      1.540619\n",
      "std        0.151065      5.874779\n",
      "min       -1.000000      1.000000\n",
      "25%        0.000000      1.000000\n",
      "50%        0.000000      1.000000\n",
      "75%        0.000000      1.000000\n",
      "max        1.000000    464.000000\n"
     ]
    }
   ],
   "source": [
    "#descriptions\n",
    "print(messages.describe())"
   ]
  },
  {
   "cell_type": "code",
   "execution_count": 3,
   "id": "d1d8b55b",
   "metadata": {},
   "outputs": [
    {
     "name": "stdout",
     "output_type": "stream",
     "text": [
      "sentiment\n",
      "negative     2939\n",
      "neutral     47051\n",
      "positive     4947\n",
      "dtype: int64\n"
     ]
    }
   ],
   "source": [
    "# class distribution\n",
    "print(messages.groupby('sentiment').size())"
   ]
  },
  {
   "cell_type": "code",
   "execution_count": 4,
   "id": "9f1d4dcf",
   "metadata": {},
   "outputs": [
    {
     "data": {
      "image/png": "[encoded data removed]",
      "text/plain": [
       "<Figure size 432x288 with 4 Axes>"
      ]
     },
     "metadata": {
      "needs_background": "light"
     },
     "output_type": "display_data"
    }
   ],
   "source": [
    "from matplotlib import pyplot\n",
    "messages.plot(kind='box', subplots=True, layout=(2,2), sharex=False, sharey=False)\n",
    "pyplot.show()"
   ]
  },
  {
   "cell_type": "code",
   "execution_count": 5,
   "id": "a7799c3b",
   "metadata": {
    "scrolled": true
   },
   "outputs": [
    {
     "data": {
      "text/plain": [
       "0                covid cases\n",
       "1                  new cases\n",
       "2        valentinesday covid\n",
       "3               red nviolets\n",
       "4              nviolets blue\n",
       "                ...         \n",
       "54932            caseload th\n",
       "54933               day wait\n",
       "54934             wait watch\n",
       "54935             watch says\n",
       "54936           covid odisha\n",
       "Name: text, Length: 54937, dtype: object"
      ]
     },
     "execution_count": 5,
     "metadata": {},
     "output_type": "execute_result"
    }
   ],
   "source": [
    "messages['text']"
   ]
  },
  {
   "cell_type": "code",
   "execution_count": 6,
   "id": "c9512d80",
   "metadata": {},
   "outputs": [],
   "source": [
    "from nltk.corpus import stopwords  # Importing Natural Language Toolkit\n",
    "from nltk.stem import WordNetLemmatizer\n",
    "import re\n",
    "corpus = []\n",
    "lemmatizer = WordNetLemmatizer()\n",
    " \n",
    "for i in range(0,len(messages['text'])):\n",
    "    review = re.sub('[^a-zA-Z]', ' ', messages['text'][i])\n",
    "    review = review.lower()\n",
    "    review = review.split()\n",
    "    review = [lemmatizer.lemmatize(word) for word in review if word not in set(stopwords.words(\"english\"))]\n",
    "    non_word=['n','rt','xe','xa','xc','co','xf','xxd','xs','x','nx','ni','nfor','nhow','eh','de''amo','nis','wa']\n",
    "    review=[e for e in review if e not in non_word]\n",
    "    corpus.append(review)"
   ]
  },
  {
   "cell_type": "code",
   "execution_count": 7,
   "id": "9630a4f4",
   "metadata": {},
   "outputs": [
    {
     "data": {
      "text/plain": [
       "54937"
      ]
     },
     "execution_count": 7,
     "metadata": {},
     "output_type": "execute_result"
    }
   ],
   "source": [
    "len(corpus)"
   ]
  },
  {
   "cell_type": "code",
   "execution_count": 8,
   "id": "8eb5f14e",
   "metadata": {},
   "outputs": [],
   "source": [
    "X=[]\n",
    "for i in range (len(corpus)):\n",
    "    c=''.join([str(elem+\" \") for elem in corpus[i]])\n",
    "    X.append(c)\n"
   ]
  },
  {
   "cell_type": "code",
   "execution_count": 9,
   "id": "d7685226",
   "metadata": {},
   "outputs": [
    {
     "data": {
      "text/plain": [
       "54937"
      ]
     },
     "execution_count": 9,
     "metadata": {},
     "output_type": "execute_result"
    }
   ],
   "source": [
    "len(X)"
   ]
  },
  {
   "cell_type": "code",
   "execution_count": 10,
   "id": "56f45c38",
   "metadata": {},
   "outputs": [],
   "source": [
    "#bag of words converting X in vector numbers\n",
    "from sklearn.feature_extraction.text import CountVectorizer\n",
    "cv=CountVectorizer(max_features=1000)\n",
    "Y=cv.fit_transform(X).toarray()\n",
    "\n",
    "#y_score(y_test,y_pred)"
   ]
  },
  {
   "cell_type": "code",
   "execution_count": 11,
   "id": "a020f408",
   "metadata": {},
   "outputs": [
    {
     "data": {
      "text/plain": [
       "(54937,)"
      ]
     },
     "execution_count": 11,
     "metadata": {},
     "output_type": "execute_result"
    }
   ],
   "source": [
    "w=messages[\"sentiment\"]\n",
    "w.shape"
   ]
  },
  {
   "cell_type": "code",
   "execution_count": 12,
   "id": "65ad6bc4",
   "metadata": {},
   "outputs": [
    {
     "data": {
      "text/plain": [
       "(54937, 1000)"
      ]
     },
     "execution_count": 12,
     "metadata": {},
     "output_type": "execute_result"
    }
   ],
   "source": [
    "Y.shape"
   ]
  },
  {
   "cell_type": "code",
   "execution_count": 13,
   "id": "e8ae2ec0",
   "metadata": {},
   "outputs": [],
   "source": [
    "from sklearn.model_selection import train_test_split\n",
    "X_train, X_validation, Y_train, Y_validation = train_test_split(Y, w, test_size=0.20, random_state=1)"
   ]
  },
  {
   "cell_type": "code",
   "execution_count": 14,
   "id": "e7efb92b",
   "metadata": {},
   "outputs": [],
   "source": [
    "from pandas import read_csv\n",
    "from pandas.plotting import scatter_matrix\n",
    "from matplotlib import pyplot\n",
    "from sklearn.model_selection import train_test_split\n",
    "from sklearn.model_selection import cross_val_score\n",
    "from sklearn.model_selection import StratifiedKFold\n",
    "from sklearn.metrics import classification_report\n",
    "from sklearn.metrics import confusion_matrix\n",
    "from sklearn.metrics import accuracy_score\n",
    "from sklearn.linear_model import LogisticRegression\n",
    "from sklearn.tree import DecisionTreeClassifier\n",
    "from sklearn.neighbors import KNeighborsClassifier\n",
    "from sklearn.discriminant_analysis import LinearDiscriminantAnalysis\n",
    "from sklearn.naive_bayes import GaussianNB\n",
    "from sklearn.svm import SVC"
   ]
  },
  {
   "cell_type": "code",
   "execution_count": 15,
   "id": "f76d10b0",
   "metadata": {},
   "outputs": [
    {
     "name": "stdout",
     "output_type": "stream",
     "text": [
      "LR: 0.951626 (0.002560) time taken (10.775528)\n",
      "\tscore (0.9498543866035676, 0.9498543866035676, 0.9498543866035676, None)\n",
      "LDA: 0.952581 (0.002805) time taken (185.075434)\n",
      "\tscore (0.9504914452129596, 0.9504914452129596, 0.9504914452129596, None)\n",
      "KNN: 0.921796 (0.001883) time taken (3211.814616)\n",
      "\tscore (0.9196396068438296, 0.9196396068438296, 0.9196396068438296, None)\n",
      "CART: 0.951785 (0.003206) time taken (2732.417743)\n",
      "\tscore (0.9500364033491081, 0.9500364033491081, 0.9500364033491081, None)\n",
      "NB: 0.183508 (0.002869) time taken (14.790845)\n",
      "\tscore (0.186112122315253, 0.186112122315253, 0.186112122315253, None)\n",
      "SVM: 0.856857 (0.000116) time taken (10726.735775)\n",
      "\tscore (0.8548416454313796, 0.8548416454313796, 0.8548416454313796, None)\n"
     ]
    }
   ],
   "source": [
    " #Spot Check Algorithms\n",
    "from sklearn.metrics import precision_recall_fscore_support\n",
    "from sklearn.metrics import classification_report\n",
    "import numpy\n",
    "import time\n",
    "models = []\n",
    "models.append(('LR', LogisticRegression(solver='liblinear', multi_class='ovr')))\n",
    "models.append(('LDA', LinearDiscriminantAnalysis()))\n",
    "models.append(('KNN', KNeighborsClassifier()))\n",
    "models.append(('CART', DecisionTreeClassifier()))\n",
    "models.append(('NB', GaussianNB()))\n",
    "models.append(('SVM', SVC(gamma='auto')))\n",
    "# evaluate each model in turn\n",
    "results = []\n",
    "names = []\n",
    "for name, model in models:\n",
    "\tkfold = StratifiedKFold(n_splits=10, random_state=1, shuffle=True)\n",
    "\tstart=time.time()\n",
    "\tcv_results = cross_val_score(model, X_train, Y_train, cv=kfold, scoring='accuracy')\n",
    "\tmodel1=model.fit(X_train,Y_train)\n",
    "\ty_pred=model1.predict(X_validation)    \n",
    "\tend=time.time()\n",
    "\tresults.append(cv_results)\n",
    "\tnames.append(name)\n",
    "\tprint('%s: %f (%f) %s (%f)' % (name, cv_results.mean(), cv_results.std(),'time taken',end-start))\n",
    "\tscore1=precision_recall_fscore_support(Y_validation.astype(str),y_pred.astype(str),labels=['neutral','negative','positive'],average='micro',zero_division=1)   \n",
    "\tprint(\"\\tscore\",score1)\n"
   ]
  },
  {
   "cell_type": "code",
   "execution_count": 16,
   "id": "56a31508",
   "metadata": {},
   "outputs": [],
   "source": [
    "from sklearn.naive_bayes import MultinomialNB\n",
    "from sklearn.naive_bayes import BernoulliNB\n",
    "from sklearn.ensemble import RandomForestClassifier\n",
    "from sklearn.metrics import accuracy_score\n",
    "\n",
    "from sklearn.svm import LinearSVC\n",
    "from sklearn.ensemble import AdaBoostClassifier\n",
    "from sklearn.linear_model import RidgeClassifier\n",
    "from sklearn.linear_model import PassiveAggressiveClassifier\n",
    "from sklearn.linear_model import Perceptron\n",
    "from sklearn.neural_network import MLPClassifier"
   ]
  },
  {
   "cell_type": "code",
   "execution_count": 17,
   "id": "6116749f",
   "metadata": {},
   "outputs": [
    {
     "name": "stdout",
     "output_type": "stream",
     "text": [
      "MultiNB: 0.951580 (0.002555) time taken (20.262719)\n",
      "\tscore (0.9497633782307973, 0.9497633782307973, 0.9497633782307973, None)\n",
      "BerNB: 0.951717 (0.002494) time taken (23.076458)\n",
      "\tscore (0.9501274117218784, 0.9501274117218784, 0.9501274117218784, None)\n",
      "LR: 0.951626 (0.002560) time taken (9.513896)\n",
      "\tscore (0.9498543866035676, 0.9498543866035676, 0.9498543866035676, None)\n",
      "LinearSVC: 0.952445 (0.002711) time taken (14.682920)\n",
      "\tscore (0.9505824535857299, 0.9505824535857299, 0.9505824535857299, None)\n",
      "Adab: 0.924936 (0.002153) time taken (663.248485)\n",
      "\tscore (0.9235529668729523, 0.9235529668729523, 0.9235529668729523, None)\n",
      "Ridge: 0.952195 (0.002597) time taken (25.015377)\n",
      "\tscore (0.9504914452129596, 0.9504914452129596, 0.9504914452129596, None)\n",
      "PassiveAC: 0.951353 (0.002924) time taken (41.601242)\n",
      "\tscore (0.9494903531124863, 0.9494903531124863, 0.9494903531124863, None)\n",
      "Perceptron: 0.950352 (0.002987) time taken (25.106815)\n",
      "\tscore (0.7085001820167456, 0.7085001820167456, 0.7085001820167456, None)\n",
      "RFT: 0.951922 (0.003039) time taken (6152.355994)\n",
      "\tscore (0.9501274117218784, 0.9501274117218784, 0.9501274117218784, None)\n",
      "MLP: 0.950852 (0.002993) time taken (2425.573169)\n",
      "\tscore (0.9486712777575537, 0.9486712777575537, 0.9486712777575537, None)\n"
     ]
    }
   ],
   "source": [
    " #Spot Check Algorithms\n",
    "models = []\n",
    "\n",
    "models.append(('MultiNB', MultinomialNB()))\n",
    "models.append(('BerNB', BernoulliNB()))\n",
    "models.append(('LR', LogisticRegression(solver='liblinear', multi_class='ovr')))\n",
    "models.append(('LinearSVC', LinearSVC(max_iter=5000)))\n",
    "models.append(('Adab', AdaBoostClassifier()))\n",
    "models.append(('Ridge', RidgeClassifier()))\n",
    "models.append(('PassiveAC', PassiveAggressiveClassifier()))\n",
    "models.append(('Perceptron',  Perceptron()))\n",
    "models.append(('RFT', RandomForestClassifier()))\n",
    "models.append(('MLP', MLPClassifier(max_iter=1000)))\n",
    "# evaluate each model in turn\n",
    "results = []\n",
    "names = []\n",
    "accuracy=[]\n",
    "for name, model in models:\n",
    "\tkfold = StratifiedKFold(n_splits=10, random_state=1, shuffle=True)\n",
    "\tstart=time.time()\n",
    "\tcv_results = cross_val_score(model, X_train, Y_train, cv=kfold, scoring='accuracy')\n",
    "\tmodel1=model.fit(X_train,Y_train)\n",
    "\ty_pred=model1.predict(X_validation)    \n",
    "\tend=time.time()\n",
    "\tresults.append(cv_results)\n",
    "\tnames.append(name)\n",
    "\tprint('%s: %f (%f) %s (%f)' % (name, cv_results.mean(), cv_results.std(),'time taken',end-start))\n",
    "\tscore1=precision_recall_fscore_support(Y_validation.astype(str),y_pred.astype(str),labels=['neutral','negative','positive'],average='micro',zero_division=1)   \n",
    "\tprint(\"\\tscore\",score1)\n",
    "   "
   ]
  },
  {
   "cell_type": "code",
   "execution_count": 18,
   "id": "e5b5ddb3",
   "metadata": {},
   "outputs": [
    {
     "name": "stdout",
     "output_type": "stream",
     "text": [
      "0      neutral\n",
      "1     positive\n",
      "2      neutral\n",
      "3      neutral\n",
      "4      neutral\n",
      "5      neutral\n",
      "6      neutral\n",
      "7      neutral\n",
      "8      neutral\n",
      "9     positive\n",
      "10     neutral\n",
      "11     neutral\n",
      "12     neutral\n",
      "13     neutral\n",
      "14     neutral\n",
      "15    positive\n",
      "16    positive\n",
      "17     neutral\n",
      "18     neutral\n",
      "19     neutral\n",
      "Name: sentiment, dtype: object\n"
     ]
    },
    {
     "data": {
      "text/plain": [
       "array([1, 0, 1, 1, 1, 1, 1, 1, 1, 0, 1, 1, 1, 1], dtype=uint8)"
      ]
     },
     "execution_count": 18,
     "metadata": {},
     "output_type": "execute_result"
    }
   ],
   "source": [
    "print(w.head(20))\n",
    "#spam colunfor neutal value will be 1 for positive value will be 2 and for negative value will be 0\n",
    "q=pd.get_dummies(w)\n",
    "q=q.iloc[:,1].values\n",
    "q[0:14]"
   ]
  },
  {
   "cell_type": "code",
   "execution_count": 19,
   "id": "d3805a1b",
   "metadata": {},
   "outputs": [
    {
     "name": "stdout",
     "output_type": "stream",
     "text": [
      "Accuracy of the LinearSVC model is for neutral class 0.9508554787040407\n",
      "No Skill: ROC AUC=0.500\n",
      "Logistic: ROC AUC=0.838\n"
     ]
    },
    {
     "data": {
      "image/png": "[encoded data removed]",
      "text/plain": [
       "<Figure size 432x288 with 1 Axes>"
      ]
     },
     "metadata": {
      "needs_background": "light"
     },
     "output_type": "display_data"
    }
   ],
   "source": [
    "# roc curve and auc\n",
    "#from sklearn.datasets import make_classification\n",
    "from sklearn.linear_model import LogisticRegression\n",
    "from sklearn.svm import LinearSVC\n",
    "from sklearn.model_selection import train_test_split\n",
    "from sklearn.metrics import roc_curve\n",
    "from sklearn.metrics import roc_auc_score\n",
    "from sklearn.multiclass import OneVsRestClassifier\n",
    "from matplotlib import pyplot\n",
    "# generate 2 class dataset\n",
    "\n",
    "# split into train/test sets\n",
    "from sklearn.model_selection import train_test_split\n",
    "X_train,X_test,y_train,y_test=train_test_split(Y,q,test_size=0.2,random_state=0)\n",
    "# generate a no skill prediction (majority class)\n",
    "ns_probs = [0 for _ in range(len(y_test))]\n",
    "# fit a model\n",
    "model = LinearSVC(max_iter=5000)\n",
    "detect=model.fit(X_train, y_train)\n",
    "y_pred=detect.predict(X_test)\n",
    "from sklearn.metrics import accuracy_score\n",
    "accuracy=accuracy_score(y_test,y_pred)\n",
    "print(\"Accuracy of the LinearSVC model is for neutral class\", accuracy)\n",
    "# predict probabilities\n",
    "lr_probs = model.predict(X_test)\n",
    "# keep probabilities for the positive outcome only\n",
    "lr_probs = lr_probs[:]\n",
    "# calculate scores\n",
    "\n",
    "\n",
    "\n",
    "ns_auc = roc_auc_score(y_test, ns_probs)\n",
    "lr_auc = roc_auc_score(y_test, lr_probs)\n",
    "# summarize scores\n",
    "print('No Skill: ROC AUC=%.3f' % (ns_auc))\n",
    "print('Logistic: ROC AUC=%.3f' % (lr_auc))\n",
    "# calculate roc curves\n",
    "ns_fpr, ns_tpr, _ = roc_curve(y_test, ns_probs)\n",
    "lr_fpr, lr_tpr, _ = roc_curve(y_test, lr_probs)\n",
    "# plot the roc curve for the model\n",
    "pyplot.title(\" LinearSVC for neutral class\")\n",
    "pyplot.plot(ns_fpr, ns_tpr, linestyle='--', label='No Skill')\n",
    "pyplot.plot(lr_fpr, lr_tpr, marker='.', label=' LinearSVC')\n",
    "# axis labels\n",
    "pyplot.xlabel('False Positive Rate')\n",
    "pyplot.ylabel('True Positive Rate')\n",
    "# show the legend\n",
    "pyplot.legend()\n",
    "# show the plot\n",
    "pyplot.show()"
   ]
  },
  {
   "cell_type": "code",
   "execution_count": 20,
   "id": "06646415",
   "metadata": {},
   "outputs": [
    {
     "name": "stdout",
     "output_type": "stream",
     "text": [
      "0      neutral\n",
      "1     positive\n",
      "2      neutral\n",
      "3      neutral\n",
      "4      neutral\n",
      "5      neutral\n",
      "6      neutral\n",
      "7      neutral\n",
      "8      neutral\n",
      "9     positive\n",
      "10     neutral\n",
      "11     neutral\n",
      "12     neutral\n",
      "13     neutral\n",
      "14     neutral\n",
      "15    positive\n",
      "16    positive\n",
      "17     neutral\n",
      "18     neutral\n",
      "19     neutral\n",
      "Name: sentiment, dtype: object\n"
     ]
    },
    {
     "data": {
      "text/plain": [
       "array([0, 1, 0, 0, 0, 0, 0, 0, 0, 1, 0, 0, 0, 0], dtype=uint8)"
      ]
     },
     "execution_count": 20,
     "metadata": {},
     "output_type": "execute_result"
    }
   ],
   "source": [
    "print(w.head(20))\n",
    "#spam colunfor neutal value will be 1 for positive value will be 2 and for negative value will be 0\n",
    "q=pd.get_dummies(w)\n",
    "q=q.iloc[:,2].values\n",
    "q[0:14]"
   ]
  },
  {
   "cell_type": "code",
   "execution_count": 25,
   "id": "9cef3daa",
   "metadata": {},
   "outputs": [
    {
     "name": "stdout",
     "output_type": "stream",
     "text": [
      "Accuracy of the LinearSVC model is for positive class 0.9734255551510739\n",
      "No Skill: ROC AUC=0.500\n",
      "Logistic: ROC AUC=0.865\n"
     ]
    },
    {
     "data": {
      "image/png": "[encoded data removed]",
      "text/plain": [
       "<Figure size 432x288 with 1 Axes>"
      ]
     },
     "metadata": {
      "needs_background": "light"
     },
     "output_type": "display_data"
    }
   ],
   "source": [
    "# roc curve and auc\n",
    "#from sklearn.datasets import make_classification\n",
    "from sklearn.linear_model import LogisticRegression\n",
    "from sklearn.model_selection import train_test_split\n",
    "from sklearn.metrics import roc_curve\n",
    "from sklearn.metrics import roc_auc_score\n",
    "from sklearn.multiclass import OneVsRestClassifier\n",
    "from matplotlib import pyplot\n",
    "# generate 2 class dataset\n",
    "\n",
    "# split into train/test sets\n",
    "from sklearn.model_selection import train_test_split\n",
    "X_train,X_test,y_train,y_test=train_test_split(Y,q,test_size=0.2,random_state=0)\n",
    "# generate a no skill prediction (majority class)\n",
    "ns_probs = [0 for _ in range(len(y_test))]\n",
    "# fit a model\n",
    "model = LinearSVC()\n",
    "detect=model.fit(X_train, y_train)\n",
    "y_pred=detect.predict(X_test)\n",
    "from sklearn.metrics import accuracy_score\n",
    "accuracy=accuracy_score(y_test,y_pred)\n",
    "print(\"Accuracy of the LinearSVC model is for positive class\", accuracy)\n",
    "# predict probabilities\n",
    "lr_probs = model.predict(X_test)\n",
    "# keep probabilities for the positive outcome only\n",
    "lr_probs = lr_probs[:]\n",
    "# calculate scores\n",
    "\n",
    "\n",
    "\n",
    "ns_auc = roc_auc_score(y_test, ns_probs)\n",
    "lr_auc = roc_auc_score(y_test, lr_probs)\n",
    "# summarize scores\n",
    "print('No Skill: ROC AUC=%.3f' % (ns_auc))\n",
    "print('Logistic: ROC AUC=%.3f' % (lr_auc))\n",
    "# calculate roc curves\n",
    "ns_fpr, ns_tpr, _ = roc_curve(y_test, ns_probs)\n",
    "lr_fpr, lr_tpr, _ = roc_curve(y_test, lr_probs)\n",
    "# plot the roc curve for the model\n",
    "pyplot.title(\"LR for positive class\")\n",
    "pyplot.plot(ns_fpr, ns_tpr, linestyle='--', label='No Skill')\n",
    "pyplot.plot(lr_fpr, lr_tpr, marker='.', label='Logistic')\n",
    "# axis labels\n",
    "pyplot.xlabel('False Positive Rate')\n",
    "pyplot.ylabel('True Positive Rate')\n",
    "# show the legend\n",
    "pyplot.legend()\n",
    "# show the plot\n",
    "pyplot.show()"
   ]
  },
  {
   "cell_type": "code",
   "execution_count": 26,
   "id": "02a9de8d",
   "metadata": {},
   "outputs": [
    {
     "name": "stdout",
     "output_type": "stream",
     "text": [
      "0      neutral\n",
      "1     positive\n",
      "2      neutral\n",
      "3      neutral\n",
      "4      neutral\n",
      "5      neutral\n",
      "6      neutral\n",
      "7      neutral\n",
      "8      neutral\n",
      "9     positive\n",
      "10     neutral\n",
      "11     neutral\n",
      "12     neutral\n",
      "13     neutral\n",
      "14     neutral\n",
      "15    positive\n",
      "16    positive\n",
      "17     neutral\n",
      "18     neutral\n",
      "19     neutral\n",
      "Name: sentiment, dtype: object\n"
     ]
    },
    {
     "data": {
      "text/plain": [
       "array([0, 0, 0, 0, 0, 0, 0, 0, 0, 0, 0, 0, 0, 0], dtype=uint8)"
      ]
     },
     "execution_count": 26,
     "metadata": {},
     "output_type": "execute_result"
    }
   ],
   "source": [
    "print(w.head(20))\n",
    "#spam colunfor neutal value will be 1 for positive value will be 2 and for negative value will be 0\n",
    "q=pd.get_dummies(w)\n",
    "q=q.iloc[:,0].values\n",
    "q[0:14]"
   ]
  },
  {
   "cell_type": "code",
   "execution_count": 29,
   "id": "acd24604",
   "metadata": {},
   "outputs": [
    {
     "name": "stdout",
     "output_type": "stream",
     "text": [
      "Accuracy of the LinearSVC model is for negative class 0.975609756097561\n",
      "No Skill: ROC AUC=0.500\n",
      "LinearSVC: ROC AUC=0.788\n"
     ]
    },
    {
     "data": {
      "image/png": "[encoded data removed]",
      "text/plain": [
       "<Figure size 432x288 with 1 Axes>"
      ]
     },
     "metadata": {
      "needs_background": "light"
     },
     "output_type": "display_data"
    }
   ],
   "source": [
    "# roc curve and auc\n",
    "#from sklearn.datasets import make_classification\n",
    "from sklearn.linear_model import LogisticRegression\n",
    "from sklearn.model_selection import train_test_split\n",
    "from sklearn.metrics import roc_curve\n",
    "from sklearn.metrics import roc_auc_score\n",
    "from sklearn.multiclass import OneVsRestClassifier\n",
    "from matplotlib import pyplot\n",
    "# generate 2 class dataset\n",
    "\n",
    "# split into train/test sets\n",
    "from sklearn.model_selection import train_test_split\n",
    "X_train,X_test,y_train,y_test=train_test_split(Y,q,test_size=0.2,random_state=0)\n",
    "# generate a no skill prediction (majority class)\n",
    "ns_probs = [0 for _ in range(len(y_test))]\n",
    "# fit a model\n",
    "model = LinearSVC()\n",
    "detect=model.fit(X_train, y_train)\n",
    "y_pred=detect.predict(X_test)\n",
    "from sklearn.metrics import accuracy_score\n",
    "accuracy=accuracy_score(y_test,y_pred)\n",
    "print(\"Accuracy of the LinearSVC model is for negative class\", accuracy)\n",
    "# predict probabilities\n",
    "lr_probs = model.predict(X_test)\n",
    "# keep probabilities for the positive outcome only\n",
    "lr_probs = lr_probs[:]\n",
    "# calculate scores\n",
    "\n",
    "\n",
    "\n",
    "ns_auc = roc_auc_score(y_test, ns_probs)\n",
    "lr_auc = roc_auc_score(y_test, lr_probs)\n",
    "# summarize scores\n",
    "print('No Skill: ROC AUC=%.3f' % (ns_auc))\n",
    "print('LinearSVC: ROC AUC=%.3f' % (lr_auc))\n",
    "# calculate roc curves\n",
    "ns_fpr, ns_tpr, _ = roc_curve(y_test, ns_probs)\n",
    "lr_fpr, lr_tpr, _ = roc_curve(y_test, lr_probs)\n",
    "# plot the roc curve for the model\n",
    "pyplot.title(\"LinearSVC for negative class\")\n",
    "pyplot.plot(ns_fpr, ns_tpr, linestyle='--', label='No Skill')\n",
    "pyplot.plot(lr_fpr, lr_tpr, marker='.', label='Logistic')\n",
    "# axis labels\n",
    "pyplot.xlabel('False Positive Rate')\n",
    "pyplot.ylabel('True Positive Rate')\n",
    "# show the legend\n",
    "pyplot.legend()\n",
    "# show the plot\n",
    "pyplot.show()"
   ]
  },
  {
   "cell_type": "code",
   "execution_count": 28,
   "id": "e4a73763",
   "metadata": {},
   "outputs": [
    {
     "name": "stdout",
     "output_type": "stream",
     "text": [
      "Accuracy of the MLP  negative model is 0.9754277393520204\n",
      "No Skill: ROC AUC=0.500\n",
      "Logistic: ROC AUC=0.856\n"
     ]
    },
    {
     "data": {
      "image/png": "[encoded data removed]",
      "text/plain": [
       "<Figure size 432x288 with 1 Axes>"
      ]
     },
     "metadata": {
      "needs_background": "light"
     },
     "output_type": "display_data"
    }
   ],
   "source": [
    "# roc curve and auc\n",
    "#from sklearn.datasets import make_classification\n",
    "\n",
    "from sklearn.model_selection import train_test_split\n",
    "from sklearn.metrics import roc_curve\n",
    "from sklearn.metrics import roc_auc_score\n",
    "from sklearn.neural_network import MLPClassifier\n",
    "from matplotlib import pyplot\n",
    "# generate 2 class dataset\n",
    "\n",
    "# split into train/test sets\n",
    "from sklearn.model_selection import train_test_split\n",
    "X_train,X_test,y_train,y_test=train_test_split(Y,q,test_size=0.2,random_state=0)\n",
    "# generate a no skill prediction (majority class)\n",
    "ns_probs = [0 for _ in range(len(y_test))]\n",
    "# fit a model\n",
    "model = MLPClassifier()\n",
    "detect=model.fit(X_train, y_train)\n",
    "y_pred=detect.predict(X_test)\n",
    "from sklearn.metrics import accuracy_score\n",
    "accuracy=accuracy_score(y_test,y_pred)\n",
    "print(\"Accuracy of the MLP  negative model is\", accuracy)\n",
    "# predict probabilities\n",
    "lr_probs = model.predict_proba(X_test)\n",
    "# keep probabilities for the positive outcome only\n",
    "lr_probs = lr_probs[:, 1]\n",
    "# calculate scores\n",
    "\n",
    "\n",
    "\n",
    "ns_auc = roc_auc_score(y_test, ns_probs)\n",
    "lr_auc = roc_auc_score(y_test, lr_probs)\n",
    "# summarize scores\n",
    "print('No Skill: ROC AUC=%.3f' % (ns_auc))\n",
    "print('Logistic: ROC AUC=%.3f' % (lr_auc))\n",
    "# calculate roc curves\n",
    "ns_fpr, ns_tpr, _ = roc_curve(y_test, ns_probs)\n",
    "lr_fpr, lr_tpr, _ = roc_curve(y_test, lr_probs)\n",
    "# plot the roc curve for the model\n",
    "pyplot.plot(ns_fpr, ns_tpr, linestyle='--', label='No Skill')\n",
    "pyplot.plot(lr_fpr, lr_tpr, marker='.', label='MLP')\n",
    "# axis labels\n",
    "pyplot.xlabel('False Positive Rate')\n",
    "pyplot.ylabel('True Positive Rate')\n",
    "# show the legend\n",
    "pyplot.legend()\n",
    "# show the plot\n",
    "pyplot.show()"
   ]
  },
  {
   "cell_type": "code",
   "execution_count": null,
   "id": "339cbbea",
   "metadata": {},
   "outputs": [],
   "source": []
  },
  {
   "cell_type": "code",
   "execution_count": null,
   "id": "545ad0d4",
   "metadata": {},
   "outputs": [],
   "source": []
  },
  {
   "cell_type": "code",
   "execution_count": null,
   "id": "f285ca42",
   "metadata": {},
   "outputs": [],
   "source": []
  },
  {
   "cell_type": "code",
   "execution_count": null,
   "id": "a47853eb",
   "metadata": {},
   "outputs": [],
   "source": []
  }
 ],
 "metadata": {
  "kernelspec": {
   "display_name": "Python 3 (ipykernel)",
   "language": "python",
   "name": "python3"
  },
  "language_info": {
   "codemirror_mode": {
    "name": "ipython",
    "version": 3
   },
   "file_extension": ".py",
   "mimetype": "text/x-python",
   "name": "python",
   "nbconvert_exporter": "python",
   "pygments_lexer": "ipython3",
   "version": "3.8.8"
  }
 },
 "nbformat": 4,
 "nbformat_minor": 5
}
