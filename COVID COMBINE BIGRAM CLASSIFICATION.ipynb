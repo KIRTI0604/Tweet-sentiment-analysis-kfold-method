{
 "cells": [
  {
   "cell_type": "code",
   "execution_count": 50,
   "id": "73e9dee8",
   "metadata": {},
   "outputs": [],
   "source": [
    "import nltk\n",
    "import pandas as pd\n",
    "from nltk.corpus import stopwords  # Importing Natural Language Toolkit\n",
    "\n",
    "messages=pd.read_csv(r'C:\\Users\\DELL\\Desktop\\RNTU\\dataset prepared\\Covid19\\covid combine\\COVID19__combine Bigram_Combine NEW sent pol.csv',header=None,names=[\"sentiment\",\"text\",\"polarity\",\"repetations\"])\n",
    "from nltk.corpus import stopwords\n",
    "import nltk\n",
    "from nltk.stem import PorterStemmer\n",
    "#from nltk.stem import WordNetLemmatizer\n"
   ]
  },
  {
   "cell_type": "code",
   "execution_count": 51,
   "id": "bd87875c",
   "metadata": {
    "scrolled": true
   },
   "outputs": [
    {
     "name": "stdout",
     "output_type": "stream",
     "text": [
      "           polarity   repetations\n",
      "count  54937.000000  54937.000000\n",
      "mean       0.012156      1.540619\n",
      "std        0.151065      5.874779\n",
      "min       -1.000000      1.000000\n",
      "25%        0.000000      1.000000\n",
      "50%        0.000000      1.000000\n",
      "75%        0.000000      1.000000\n",
      "max        1.000000    464.000000\n"
     ]
    }
   ],
   "source": [
    "#descriptions\n",
    "print(messages.describe())"
   ]
  },
  {
   "cell_type": "code",
   "execution_count": 52,
   "id": "d1d8b55b",
   "metadata": {},
   "outputs": [
    {
     "name": "stdout",
     "output_type": "stream",
     "text": [
      "sentiment\n",
      "negative     2939\n",
      "neutral     47051\n",
      "positive     4947\n",
      "dtype: int64\n"
     ]
    }
   ],
   "source": [
    "# class distribution\n",
    "print(messages.groupby('sentiment').size())"
   ]
  },
  {
   "cell_type": "code",
   "execution_count": 53,
   "id": "9f1d4dcf",
   "metadata": {},
   "outputs": [
    {
     "data": {
      "image/png": "[encoded data removed]",
      "text/plain": [
       "<Figure size 432x288 with 4 Axes>"
      ]
     },
     "metadata": {
      "needs_background": "light"
     },
     "output_type": "display_data"
    }
   ],
   "source": [
    "from matplotlib import pyplot\n",
    "messages.plot(kind='box', subplots=True, layout=(2,2), sharex=False, sharey=False)\n",
    "pyplot.show()"
   ]
  },
  {
   "cell_type": "code",
   "execution_count": 54,
   "id": "a7799c3b",
   "metadata": {
    "scrolled": true
   },
   "outputs": [
    {
     "data": {
      "text/plain": [
       "0                covid cases\n",
       "1                  new cases\n",
       "2        valentinesday covid\n",
       "3               red nviolets\n",
       "4              nviolets blue\n",
       "                ...         \n",
       "54932            caseload th\n",
       "54933               day wait\n",
       "54934             wait watch\n",
       "54935             watch says\n",
       "54936           covid odisha\n",
       "Name: text, Length: 54937, dtype: object"
      ]
     },
     "execution_count": 54,
     "metadata": {},
     "output_type": "execute_result"
    }
   ],
   "source": [
    "messages['text']"
   ]
  },
  {
   "cell_type": "code",
   "execution_count": 55,
   "id": "c9512d80",
   "metadata": {},
   "outputs": [],
   "source": [
    "from nltk.corpus import stopwords  # Importing Natural Language Toolkit\n",
    "from nltk.stem import WordNetLemmatizer\n",
    "import re\n",
    "corpus = []\n",
    "lemmatizer = WordNetLemmatizer()\n",
    " \n",
    "    \n",
    "\n",
    "\n",
    "\n",
    "for i in range(0,len(messages['text'])):\n",
    "    review = re.sub('[^a-zA-Z]', ' ', messages['text'][i])\n",
    "    review = review.lower()\n",
    "    review = review.split()\n",
    "    review = [lemmatizer.lemmatize(word) for word in review if word not in set(stopwords.words(\"english\"))]\n",
    "    non_word=['n','rt','xe','xa','xc','co','xf','xxd','xs','x','nx','ni','nfor','nhow','eh','de''amo','nis','wa']\n",
    "    review=[e for e in review if e not in non_word]\n",
    "    corpus.append(review)"
   ]
  },
  {
   "cell_type": "code",
   "execution_count": 56,
   "id": "9630a4f4",
   "metadata": {},
   "outputs": [
    {
     "data": {
      "text/plain": [
       "54937"
      ]
     },
     "execution_count": 56,
     "metadata": {},
     "output_type": "execute_result"
    }
   ],
   "source": [
    "len(corpus)"
   ]
  },
  {
   "cell_type": "code",
   "execution_count": 57,
   "id": "8eb5f14e",
   "metadata": {},
   "outputs": [],
   "source": [
    "X=[]\n",
    "for i in range (len(corpus)):\n",
    "    c=''.join([str(elem+\" \") for elem in corpus[i]])\n",
    "    X.append(c)\n"
   ]
  },
  {
   "cell_type": "code",
   "execution_count": 58,
   "id": "d7685226",
   "metadata": {},
   "outputs": [
    {
     "data": {
      "text/plain": [
       "54937"
      ]
     },
     "execution_count": 58,
     "metadata": {},
     "output_type": "execute_result"
    }
   ],
   "source": [
    "len(X)"
   ]
  },
  {
   "cell_type": "code",
   "execution_count": 60,
   "id": "56f45c38",
   "metadata": {},
   "outputs": [],
   "source": [
    "#bag of words converting X in vector numbers\n",
    "from sklearn.feature_extraction.text import CountVectorizer\n",
    "cv=CountVectorizer(max_features=1000)\n",
    "Y=cv.fit_transform(X).toarray()\n",
    "\n",
    "#y_score(y_test,y_pred)"
   ]
  },
  {
   "cell_type": "code",
   "execution_count": 61,
   "id": "a020f408",
   "metadata": {},
   "outputs": [
    {
     "data": {
      "text/plain": [
       "(54937,)"
      ]
     },
     "execution_count": 61,
     "metadata": {},
     "output_type": "execute_result"
    }
   ],
   "source": [
    "w=messages[\"sentiment\"]\n",
    "w.shape"
   ]
  },
  {
   "cell_type": "code",
   "execution_count": 62,
   "id": "65ad6bc4",
   "metadata": {},
   "outputs": [
    {
     "data": {
      "text/plain": [
       "(54937, 1000)"
      ]
     },
     "execution_count": 62,
     "metadata": {},
     "output_type": "execute_result"
    }
   ],
   "source": [
    "Y.shape"
   ]
  },
  {
   "cell_type": "code",
   "execution_count": 87,
   "id": "a54e3ac8",
   "metadata": {},
   "outputs": [
    {
     "name": "stdout",
     "output_type": "stream",
     "text": [
      " time taken by method is 0.007157802581787109 sec\n",
      "[[  65  507    1]\n",
      " [   0 9424    6]\n",
      " [   4  709  272]]\n",
      "MultinomialNB accuracy is = 0.8883327266108482\n",
      "              precision    recall  f1-score   support\n",
      "\n",
      "    negative       0.94      0.11      0.20       573\n",
      "     neutral       0.89      1.00      0.94      9430\n",
      "    positive       0.97      0.28      0.43       985\n",
      "\n",
      "    accuracy                           0.89     10988\n",
      "   macro avg       0.93      0.46      0.52     10988\n",
      "weighted avg       0.90      0.89      0.86     10988\n",
      "\n"
     ]
    }
   ],
   "source": [
    "#training dataset\n",
    "from sklearn.model_selection import train_test_split\n",
    "X_train,X_test,y_train,y_test=train_test_split(Y,w,test_size=0.2,random_state=0)\n",
    "import time\n",
    "from sklearn.naive_bayes import MultinomialNB\n",
    "spam_detect_model=MultinomialNB().fit(X_train,y_train)\n",
    "\n",
    "start=time.time()\n",
    "y_pred=spam_detect_model.predict(X_test)\n",
    "end=time.time()\n",
    "print(\" time taken by method is\", end-start,\"sec\")\n",
    "\n",
    "from sklearn.metrics import confusion_matrix\n",
    "confusion_m=confusion_matrix(y_test,y_pred)\n",
    "print(confusion_m)\n",
    "from sklearn.metrics import accuracy_score\n",
    "accuracy=accuracy_score(y_test,y_pred)\n",
    "print(\"MultinomialNB accuracy is =\",accuracy)\n",
    "from sklearn.metrics import classification_report\n",
    "classification_report=classification_report(y_test,y_pred)\n",
    "print(classification_report)\n",
    "\n",
    "\n"
   ]
  },
  {
   "cell_type": "code",
   "execution_count": 101,
   "id": "ae5365dc",
   "metadata": {},
   "outputs": [],
   "source": [
    "#bag of words converting X in vector numbers\n",
    "from sklearn.feature_extraction.text import CountVectorizer\n",
    "cv=CountVectorizer(max_features=100)\n",
    "Y=cv.fit_transform(X).toarray()\n",
    "\n",
    "#y_score(y_test,y_pred)"
   ]
  },
  {
   "cell_type": "code",
   "execution_count": 102,
   "id": "345a2bc8",
   "metadata": {},
   "outputs": [
    {
     "name": "stdout",
     "output_type": "stream",
     "text": [
      " time taken by method is 0.060268402099609375 sec\n",
      "[[ 488   77    8]\n",
      " [6734 2536  160]\n",
      " [ 603  100  282]]\n",
      "GaussianNB accuracy is = 0.30087368037859485\n",
      "              precision    recall  f1-score   support\n",
      "\n",
      "    negative       0.06      0.85      0.12       573\n",
      "     neutral       0.93      0.27      0.42      9430\n",
      "    positive       0.63      0.29      0.39       985\n",
      "\n",
      "    accuracy                           0.30     10988\n",
      "   macro avg       0.54      0.47      0.31     10988\n",
      "weighted avg       0.86      0.30      0.40     10988\n",
      "\n"
     ]
    }
   ],
   "source": [
    "from sklearn.model_selection import train_test_split\n",
    "X_train,X_test,y_train,y_test=train_test_split(Y,w,test_size=0.2,random_state=0)\n",
    "\n",
    "from sklearn.naive_bayes import GaussianNB\n",
    "spam_detect_model=GaussianNB().fit(X_train,y_train)\n",
    "\n",
    "start=time.time()\n",
    "y_pred=spam_detect_model.predict(X_test)\n",
    "end=time.time()\n",
    "print(\" time taken by method is\", end-start,\"sec\")\n",
    "\n",
    "from sklearn.metrics import confusion_matrix\n",
    "confusion_m=confusion_matrix(y_test,y_pred)\n",
    "print(confusion_m)\n",
    "from sklearn.metrics import accuracy_score\n",
    "accuracy=accuracy_score(y_test,y_pred)\n",
    "print(\"GaussianNB accuracy is =\",accuracy)\n",
    "from sklearn.metrics import classification_report\n",
    "classification_report=classification_report(y_test,y_pred)\n",
    "print(classification_report)"
   ]
  },
  {
   "cell_type": "code",
   "execution_count": 103,
   "id": "1e51dbbb",
   "metadata": {},
   "outputs": [
    {
     "name": "stdout",
     "output_type": "stream",
     "text": [
      " time taken by method is 0.019713878631591797 sec\n",
      "[[  65  507    1]\n",
      " [   0 9424    6]\n",
      " [   4  709  272]]\n",
      "BernoulliNB accuracy is = 0.8883327266108482\n",
      "              precision    recall  f1-score   support\n",
      "\n",
      "    negative       0.94      0.11      0.20       573\n",
      "     neutral       0.89      1.00      0.94      9430\n",
      "    positive       0.97      0.28      0.43       985\n",
      "\n",
      "    accuracy                           0.89     10988\n",
      "   macro avg       0.93      0.46      0.52     10988\n",
      "weighted avg       0.90      0.89      0.86     10988\n",
      "\n"
     ]
    }
   ],
   "source": [
    "from sklearn.model_selection import train_test_split\n",
    "X_train,X_test,y_train,y_test=train_test_split(Y,w,test_size=0.2,random_state=0)\n",
    "\n",
    "from sklearn.naive_bayes import BernoulliNB\n",
    "spam_detect_model=BernoulliNB().fit(X_train,y_train)\n",
    "\n",
    "start=time.time()\n",
    "y_pred=spam_detect_model.predict(X_test)\n",
    "end=time.time()\n",
    "print(\" time taken by method is\", end-start,\"sec\")\n",
    "\n",
    "#from sklearn.metrics import confusion_matrix\n",
    "confusion_m=confusion_matrix(y_test,y_pred)\n",
    "print(confusion_m)\n",
    "#from sklearn.metrics import accuracy_score\n",
    "accuracy=accuracy_score(y_test,y_pred)\n",
    "print(\"BernoulliNB accuracy is =\",accuracy)\n",
    "from sklearn.metrics import classification_report\n",
    "classification_report=classification_report(y_test,y_pred)\n",
    "print(classification_report)"
   ]
  },
  {
   "cell_type": "code",
   "execution_count": 104,
   "id": "9c1d34ef",
   "metadata": {},
   "outputs": [
    {
     "name": "stdout",
     "output_type": "stream",
     "text": [
      " time taken by method is 0.007999658584594727 sec\n",
      "[[  65  507    1]\n",
      " [   0 9424    6]\n",
      " [   4  709  272]]\n",
      "LogisticRegression accuracy is = 0.8883327266108482\n",
      "              precision    recall  f1-score   support\n",
      "\n",
      "    negative       0.94      0.11      0.20       573\n",
      "     neutral       0.89      1.00      0.94      9430\n",
      "    positive       0.97      0.28      0.43       985\n",
      "\n",
      "    accuracy                           0.89     10988\n",
      "   macro avg       0.93      0.46      0.52     10988\n",
      "weighted avg       0.90      0.89      0.86     10988\n",
      "\n"
     ]
    }
   ],
   "source": [
    "from sklearn.model_selection import train_test_split\n",
    "X_train,X_test,y_train,y_test=train_test_split(Y,w,test_size=0.2,random_state=0)\n",
    "\n",
    "from sklearn.linear_model import LogisticRegression\n",
    "spam_detect_model=LogisticRegression().fit(X_train,y_train)\n",
    "\n",
    "start=time.time()\n",
    "y_pred=spam_detect_model.predict(X_test)\n",
    "end=time.time()\n",
    "print(\" time taken by method is\", end-start,\"sec\")\n",
    "\n",
    "from sklearn.metrics import confusion_matrix\n",
    "confusion_m=confusion_matrix(y_test,y_pred)\n",
    "print(confusion_m)\n",
    "#from sklearn.metrics import accuracy_score\n",
    "accuracy=accuracy_score(y_test,y_pred)\n",
    "print(\"LogisticRegression accuracy is =\",accuracy)\n",
    "from sklearn.metrics import classification_report\n",
    "classification_report=classification_report(y_test,y_pred)\n",
    "print(classification_report)"
   ]
  },
  {
   "cell_type": "code",
   "execution_count": 105,
   "id": "965bc8ee",
   "metadata": {},
   "outputs": [
    {
     "name": "stdout",
     "output_type": "stream",
     "text": [
      " time taken by method is 0.010099172592163086 sec\n",
      "[[  64  507    2]\n",
      " [   0 9424    6]\n",
      " [   3  710  272]]\n",
      "DecisionTreeClassifier accuracy is = 0.8882417182380778\n",
      "              precision    recall  f1-score   support\n",
      "\n",
      "    negative       0.96      0.11      0.20       573\n",
      "     neutral       0.89      1.00      0.94      9430\n",
      "    positive       0.97      0.28      0.43       985\n",
      "\n",
      "    accuracy                           0.89     10988\n",
      "   macro avg       0.94      0.46      0.52     10988\n",
      "weighted avg       0.90      0.89      0.85     10988\n",
      "\n"
     ]
    }
   ],
   "source": [
    "from sklearn.model_selection import train_test_split\n",
    "X_train,X_test,y_train,y_test=train_test_split(Y,w,test_size=0.2,random_state=0)\n",
    "\n",
    "from sklearn.tree import DecisionTreeClassifier\n",
    "spam_detect_model=DecisionTreeClassifier().fit(X_train,y_train)\n",
    "\n",
    "start=time.time()\n",
    "y_pred=spam_detect_model.predict(X_test)\n",
    "end=time.time()\n",
    "print(\" time taken by method is\", end-start,\"sec\")\n",
    "\n",
    "from sklearn.metrics import confusion_matrix\n",
    "confusion_m=confusion_matrix(y_test,y_pred)\n",
    "print(confusion_m)\n",
    "#from sklearn.metrics import accuracy_score\n",
    "accuracy=accuracy_score(y_test,y_pred)\n",
    "print(\"DecisionTreeClassifier accuracy is =\",accuracy)\n",
    "from sklearn.metrics import classification_report\n",
    "classification_report=classification_report(y_test,y_pred)\n",
    "print(classification_report)"
   ]
  },
  {
   "cell_type": "code",
   "execution_count": 106,
   "id": "f8016eec",
   "metadata": {
    "scrolled": true
   },
   "outputs": [
    {
     "name": "stdout",
     "output_type": "stream",
     "text": [
      " time taken by method is 87.32756924629211 sec\n",
      "[[  57  514    2]\n",
      " [   1 9423    6]\n",
      " [   4  738  243]]\n",
      "KNeighborsClassifier accuracy is = 0.884874408445577\n",
      "              precision    recall  f1-score   support\n",
      "\n",
      "    negative       0.92      0.10      0.18       573\n",
      "     neutral       0.88      1.00      0.94      9430\n",
      "    positive       0.97      0.25      0.39       985\n",
      "\n",
      "    accuracy                           0.88     10988\n",
      "   macro avg       0.92      0.45      0.50     10988\n",
      "weighted avg       0.89      0.88      0.85     10988\n",
      "\n"
     ]
    }
   ],
   "source": [
    "from sklearn.model_selection import train_test_split\n",
    "X_train,X_test,y_train,y_test=train_test_split(Y,w,test_size=0.2,random_state=0)\n",
    "\n",
    "from sklearn.neighbors import KNeighborsClassifier\n",
    "\n",
    "spam_detect_model=KNeighborsClassifier().fit(X_train,y_train)\n",
    "\n",
    "start=time.time()\n",
    "y_pred=spam_detect_model.predict(X_test)\n",
    "end=time.time()\n",
    "print(\" time taken by method is\", end-start,\"sec\")\n",
    "\n",
    "from sklearn.metrics import confusion_matrix\n",
    "confusion_m=confusion_matrix(y_test,y_pred)\n",
    "print(confusion_m)\n",
    "#from sklearn.metrics import accuracy_score\n",
    "accuracy=accuracy_score(y_test,y_pred)\n",
    "print(\"KNeighborsClassifier accuracy is =\",accuracy)\n",
    "from sklearn.metrics import classification_report\n",
    "classification_report=classification_report(y_test,y_pred)\n",
    "print(classification_report)"
   ]
  },
  {
   "cell_type": "code",
   "execution_count": 107,
   "id": "42ad4e40",
   "metadata": {},
   "outputs": [
    {
     "name": "stdout",
     "output_type": "stream",
     "text": [
      " time taken by method is 0.008768796920776367 sec\n",
      "[[  65  507    1]\n",
      " [   0 9424    6]\n",
      " [   4  709  272]]\n",
      "LinearDiscriminantAnalysis accuracy is = 0.8883327266108482\n",
      "              precision    recall  f1-score   support\n",
      "\n",
      "    negative       0.94      0.11      0.20       573\n",
      "     neutral       0.89      1.00      0.94      9430\n",
      "    positive       0.97      0.28      0.43       985\n",
      "\n",
      "    accuracy                           0.89     10988\n",
      "   macro avg       0.93      0.46      0.52     10988\n",
      "weighted avg       0.90      0.89      0.86     10988\n",
      "\n"
     ]
    }
   ],
   "source": [
    "from sklearn.model_selection import train_test_split\n",
    "X_train,X_test,y_train,y_test=train_test_split(Y,w,test_size=0.2,random_state=0)\n",
    "\n",
    "from sklearn.discriminant_analysis import LinearDiscriminantAnalysis\n",
    "\n",
    "spam_detect_model=LinearDiscriminantAnalysis().fit(X_train,y_train)\n",
    "\n",
    "start=time.time()\n",
    "y_pred=spam_detect_model.predict(X_test)\n",
    "end=time.time()\n",
    "print(\" time taken by method is\", end-start,\"sec\")\n",
    "\n",
    "from sklearn.metrics import confusion_matrix\n",
    "confusion_m=confusion_matrix(y_test,y_pred)\n",
    "print(confusion_m)\n",
    "#from sklearn.metrics import accuracy_score\n",
    "accuracy=accuracy_score(y_test,y_pred)\n",
    "print(\"LinearDiscriminantAnalysis accuracy is =\",accuracy)\n",
    "from sklearn.metrics import classification_report\n",
    "classification_report=classification_report(y_test,y_pred)\n",
    "print(classification_report)"
   ]
  },
  {
   "cell_type": "code",
   "execution_count": 108,
   "id": "bf613d2f",
   "metadata": {},
   "outputs": [
    {
     "name": "stdout",
     "output_type": "stream",
     "text": [
      " time taken by method is 0.0 sec\n",
      "[[  65  507    1]\n",
      " [   0 9424    6]\n",
      " [   4  709  272]]\n",
      "LinearSVC accuracy is = 0.8883327266108482\n",
      "              precision    recall  f1-score   support\n",
      "\n",
      "    negative       0.94      0.11      0.20       573\n",
      "     neutral       0.89      1.00      0.94      9430\n",
      "    positive       0.97      0.28      0.43       985\n",
      "\n",
      "    accuracy                           0.89     10988\n",
      "   macro avg       0.93      0.46      0.52     10988\n",
      "weighted avg       0.90      0.89      0.86     10988\n",
      "\n"
     ]
    }
   ],
   "source": [
    "from sklearn.model_selection import train_test_split\n",
    "X_train,X_test,y_train,y_test=train_test_split(Y,w,test_size=0.2,random_state=0)\n",
    "\n",
    "from sklearn.svm import LinearSVC\n",
    "\n",
    "spam_detect_model=LinearSVC().fit(X_train,y_train)\n",
    "\n",
    "start=time.time()\n",
    "y_pred=spam_detect_model.predict(X_test)\n",
    "end=time.time()\n",
    "print(\" time taken by method is\", end-start,\"sec\")\n",
    "\n",
    "from sklearn.metrics import confusion_matrix\n",
    "confusion_m=confusion_matrix(y_test,y_pred)\n",
    "print(confusion_m)\n",
    "#from sklearn.metrics import accuracy_score\n",
    "accuracy=accuracy_score(y_test,y_pred)\n",
    "print(\"LinearSVC accuracy is =\",accuracy)\n",
    "from sklearn.metrics import classification_report\n",
    "classification_report=classification_report(y_test,y_pred)\n",
    "print(classification_report)"
   ]
  },
  {
   "cell_type": "code",
   "execution_count": 109,
   "id": "33afddc4",
   "metadata": {},
   "outputs": [
    {
     "name": "stdout",
     "output_type": "stream",
     "text": [
      " time taken by method is 19.321500778198242 sec\n",
      "[[  52  520    1]\n",
      " [   0 9424    6]\n",
      " [   3  747  235]]\n",
      "SVC accuracy is = 0.8837823079723335\n",
      "              precision    recall  f1-score   support\n",
      "\n",
      "    negative       0.95      0.09      0.17       573\n",
      "     neutral       0.88      1.00      0.94      9430\n",
      "    positive       0.97      0.24      0.38       985\n",
      "\n",
      "    accuracy                           0.88     10988\n",
      "   macro avg       0.93      0.44      0.50     10988\n",
      "weighted avg       0.89      0.88      0.85     10988\n",
      "\n"
     ]
    }
   ],
   "source": [
    "from sklearn.model_selection import train_test_split\n",
    "X_train,X_test,y_train,y_test=train_test_split(Y,w,test_size=0.2,random_state=0)\n",
    "\n",
    "from sklearn.svm import SVC\n",
    "\n",
    "spam_detect_model= SVC().fit(X_train,y_train)\n",
    "\n",
    "start=time.time()\n",
    "y_pred=spam_detect_model.predict(X_test)\n",
    "end=time.time()\n",
    "print(\" time taken by method is\", end-start,\"sec\")\n",
    "\n",
    "from sklearn.metrics import confusion_matrix\n",
    "confusion_m=confusion_matrix(y_test,y_pred)\n",
    "print(confusion_m)\n",
    "#from sklearn.metrics import accuracy_score\n",
    "accuracy=accuracy_score(y_test,y_pred)\n",
    "print(\"SVC accuracy is =\",accuracy)\n",
    "from sklearn.metrics import classification_report\n",
    "classification_report=classification_report(y_test,y_pred)\n",
    "print(classification_report)"
   ]
  },
  {
   "cell_type": "code",
   "execution_count": 110,
   "id": "663e7a98",
   "metadata": {},
   "outputs": [
    {
     "name": "stdout",
     "output_type": "stream",
     "text": [
      " time taken by method is 0.2958064079284668 sec\n",
      "[[  65  507    1]\n",
      " [   0 9424    6]\n",
      " [   4  710  271]]\n",
      "AdaBoostClassifier accuracy is = 0.8882417182380778\n",
      "              precision    recall  f1-score   support\n",
      "\n",
      "    negative       0.94      0.11      0.20       573\n",
      "     neutral       0.89      1.00      0.94      9430\n",
      "    positive       0.97      0.28      0.43       985\n",
      "\n",
      "    accuracy                           0.89     10988\n",
      "   macro avg       0.93      0.46      0.52     10988\n",
      "weighted avg       0.90      0.89      0.85     10988\n",
      "\n"
     ]
    }
   ],
   "source": [
    "from sklearn.model_selection import train_test_split\n",
    "X_train,X_test,y_train,y_test=train_test_split(Y,w,test_size=0.2,random_state=0)\n",
    "\n",
    "from sklearn.ensemble import AdaBoostClassifier\n",
    "\n",
    "spam_detect_model=AdaBoostClassifier().fit(X_train,y_train)\n",
    "\n",
    "start=time.time()\n",
    "y_pred=spam_detect_model.predict(X_test)\n",
    "end=time.time()\n",
    "print(\" time taken by method is\", end-start,\"sec\")\n",
    "\n",
    "from sklearn.metrics import confusion_matrix\n",
    "confusion_m=confusion_matrix(y_test,y_pred)\n",
    "print(confusion_m)\n",
    "#from sklearn.metrics import accuracy_score\n",
    "accuracy=accuracy_score(y_test,y_pred)\n",
    "print(\"AdaBoostClassifier accuracy is =\",accuracy)\n",
    "from sklearn.metrics import classification_report\n",
    "classification_report=classification_report(y_test,y_pred)\n",
    "print(classification_report)"
   ]
  },
  {
   "cell_type": "code",
   "execution_count": 111,
   "id": "77169294",
   "metadata": {},
   "outputs": [
    {
     "name": "stdout",
     "output_type": "stream",
     "text": [
      " time taken by method is 0.016864538192749023 sec\n",
      "[[  65  507    1]\n",
      " [   0 9424    6]\n",
      " [   4  709  272]]\n",
      "RidgeClassifier accuracy is = 0.8883327266108482\n",
      "              precision    recall  f1-score   support\n",
      "\n",
      "    negative       0.94      0.11      0.20       573\n",
      "     neutral       0.89      1.00      0.94      9430\n",
      "    positive       0.97      0.28      0.43       985\n",
      "\n",
      "    accuracy                           0.89     10988\n",
      "   macro avg       0.93      0.46      0.52     10988\n",
      "weighted avg       0.90      0.89      0.86     10988\n",
      "\n"
     ]
    }
   ],
   "source": [
    "from sklearn.model_selection import train_test_split\n",
    "X_train,X_test,y_train,y_test=train_test_split(Y,w,test_size=0.2,random_state=0)\n",
    "\n",
    "from sklearn.linear_model import RidgeClassifier\n",
    "spam_detect_model=RidgeClassifier().fit(X_train,y_train)\n",
    "\n",
    "start=time.time()\n",
    "y_pred=spam_detect_model.predict(X_test)\n",
    "end=time.time()\n",
    "print(\" time taken by method is\", end-start,\"sec\")\n",
    "\n",
    "from sklearn.metrics import confusion_matrix\n",
    "confusion_m=confusion_matrix(y_test,y_pred)\n",
    "print(confusion_m)\n",
    "#from sklearn.metrics import accuracy_score\n",
    "accuracy=accuracy_score(y_test,y_pred)\n",
    "print(\"RidgeClassifier accuracy is =\",accuracy)\n",
    "from sklearn.metrics import classification_report\n",
    "classification_report=classification_report(y_test,y_pred)\n",
    "print(classification_report)"
   ]
  },
  {
   "cell_type": "code",
   "execution_count": 112,
   "id": "abb6cdc6",
   "metadata": {},
   "outputs": [
    {
     "name": "stdout",
     "output_type": "stream",
     "text": [
      " time taken by method is 0.0 sec\n",
      "[[  64  507    2]\n",
      " [   0 9424    6]\n",
      " [   3  709  273]]\n",
      "PassiveAggressiveClassifier accuracy is = 0.8883327266108482\n",
      "              precision    recall  f1-score   support\n",
      "\n",
      "    negative       0.96      0.11      0.20       573\n",
      "     neutral       0.89      1.00      0.94      9430\n",
      "    positive       0.97      0.28      0.43       985\n",
      "\n",
      "    accuracy                           0.89     10988\n",
      "   macro avg       0.94      0.46      0.52     10988\n",
      "weighted avg       0.90      0.89      0.86     10988\n",
      "\n"
     ]
    }
   ],
   "source": [
    "from sklearn.model_selection import train_test_split\n",
    "X_train,X_test,y_train,y_test=train_test_split(Y,w,test_size=0.2,random_state=0)\n",
    "\n",
    "from sklearn.linear_model import PassiveAggressiveClassifier\n",
    "spam_detect_model=PassiveAggressiveClassifier().fit(X_train,y_train)\n",
    "\n",
    "start=time.time()\n",
    "y_pred=spam_detect_model.predict(X_test)\n",
    "end=time.time()\n",
    "print(\" time taken by method is\", end-start,\"sec\")\n",
    "\n",
    "from sklearn.metrics import confusion_matrix\n",
    "confusion_m=confusion_matrix(y_test,y_pred)\n",
    "print(confusion_m)\n",
    "#from sklearn.metrics import accuracy_score\n",
    "accuracy=accuracy_score(y_test,y_pred)\n",
    "print(\"PassiveAggressiveClassifier accuracy is =\",accuracy)\n",
    "from sklearn.metrics import classification_report\n",
    "classification_report=classification_report(y_test,y_pred)\n",
    "print(classification_report)"
   ]
  },
  {
   "cell_type": "code",
   "execution_count": 113,
   "id": "8ff3e2d2",
   "metadata": {},
   "outputs": [
    {
     "name": "stdout",
     "output_type": "stream",
     "text": [
      " time taken by method is 0.012224912643432617 sec\n",
      "[[  64  507    2]\n",
      " [   0 9424    6]\n",
      " [   4  709  272]]\n",
      "Perceptron accuracy is = 0.8882417182380778\n",
      "              precision    recall  f1-score   support\n",
      "\n",
      "    negative       0.94      0.11      0.20       573\n",
      "     neutral       0.89      1.00      0.94      9430\n",
      "    positive       0.97      0.28      0.43       985\n",
      "\n",
      "    accuracy                           0.89     10988\n",
      "   macro avg       0.93      0.46      0.52     10988\n",
      "weighted avg       0.90      0.89      0.85     10988\n",
      "\n"
     ]
    }
   ],
   "source": [
    "from sklearn.model_selection import train_test_split\n",
    "X_train,X_test,y_train,y_test=train_test_split(Y,w,test_size=0.2,random_state=0)\n",
    "\n",
    "from sklearn.linear_model import Perceptron\n",
    "spam_detect_model=Perceptron().fit(X_train,y_train)\n",
    "\n",
    "start=time.time()\n",
    "y_pred=spam_detect_model.predict(X_test)\n",
    "end=time.time()\n",
    "print(\" time taken by method is\", end-start,\"sec\")\n",
    "\n",
    "from sklearn.metrics import confusion_matrix\n",
    "confusion_m=confusion_matrix(y_test,y_pred)\n",
    "print(confusion_m)\n",
    "#from sklearn.metrics import accuracy_score\n",
    "accuracy=accuracy_score(y_test,y_pred)\n",
    "print(\"Perceptron accuracy is =\",accuracy)\n",
    "from sklearn.metrics import classification_report\n",
    "classification_report=classification_report(y_test,y_pred)\n",
    "print(classification_report)"
   ]
  },
  {
   "cell_type": "code",
   "execution_count": 114,
   "id": "02b2e6e2",
   "metadata": {},
   "outputs": [
    {
     "name": "stdout",
     "output_type": "stream",
     "text": [
      " time taken by method is 0.05279970169067383 sec\n",
      "[[  64  507    2]\n",
      " [   0 9424    6]\n",
      " [   3  710  272]]\n",
      "MLPClassifier accuracy is = 0.8882417182380778\n",
      "              precision    recall  f1-score   support\n",
      "\n",
      "    negative       0.96      0.11      0.20       573\n",
      "     neutral       0.89      1.00      0.94      9430\n",
      "    positive       0.97      0.28      0.43       985\n",
      "\n",
      "    accuracy                           0.89     10988\n",
      "   macro avg       0.94      0.46      0.52     10988\n",
      "weighted avg       0.90      0.89      0.85     10988\n",
      "\n"
     ]
    }
   ],
   "source": [
    "from sklearn.model_selection import train_test_split\n",
    "X_train,X_test,y_train,y_test=train_test_split(Y,w,test_size=0.2,random_state=0)\n",
    "\n",
    "from sklearn.neural_network import MLPClassifier\n",
    "spam_detect_model=MLPClassifier().fit(X_train,y_train)\n",
    "\n",
    "start=time.time()\n",
    "y_pred=spam_detect_model.predict(X_test)\n",
    "end=time.time()\n",
    "print(\" time taken by method is\", end-start,\"sec\")\n",
    "\n",
    "from sklearn.metrics import confusion_matrix\n",
    "confusion_m=confusion_matrix(y_test,y_pred)\n",
    "print(confusion_m)\n",
    "from sklearn.metrics import accuracy_score\n",
    "accuracy=accuracy_score(y_test,y_pred)\n",
    "print(\"MLPClassifier accuracy is =\",accuracy)\n",
    "from sklearn.metrics import classification_report\n",
    "classification_report=classification_report(y_test,y_pred)\n",
    "print(classification_report)"
   ]
  },
  {
   "cell_type": "code",
   "execution_count": 115,
   "id": "ce7a7721",
   "metadata": {},
   "outputs": [
    {
     "name": "stdout",
     "output_type": "stream",
     "text": [
      "0      neutral\n",
      "1     positive\n",
      "2      neutral\n",
      "3      neutral\n",
      "4      neutral\n",
      "5      neutral\n",
      "6      neutral\n",
      "7      neutral\n",
      "8      neutral\n",
      "9     positive\n",
      "10     neutral\n",
      "11     neutral\n",
      "12     neutral\n",
      "13     neutral\n",
      "14     neutral\n",
      "15    positive\n",
      "16    positive\n",
      "17     neutral\n",
      "18     neutral\n",
      "19     neutral\n",
      "Name: sentiment, dtype: object\n"
     ]
    },
    {
     "data": {
      "text/plain": [
       "array([1, 0, 1, 1, 1, 1, 1, 1, 1, 0, 1, 1, 1, 1], dtype=uint8)"
      ]
     },
     "execution_count": 115,
     "metadata": {},
     "output_type": "execute_result"
    }
   ],
   "source": [
    "print(w.head(20))\n",
    "#spam colunfor neutal value will be 1 for positive value will be 2 and for negative value will be 0\n",
    "q=pd.get_dummies(w)\n",
    "q=q.iloc[:,1].values\n",
    "q[0:14]"
   ]
  },
  {
   "cell_type": "code",
   "execution_count": 116,
   "id": "ec64a939",
   "metadata": {},
   "outputs": [
    {
     "name": "stdout",
     "output_type": "stream",
     "text": [
      "Accuracy of the LR model is for neutral class 0.8887877684746996\n",
      "No Skill: ROC AUC=0.500\n",
      "Logistic: ROC AUC=0.683\n"
     ]
    },
    {
     "data": {
      "image/png": "[encoded data removed]",
      "text/plain": [
       "<Figure size 432x288 with 1 Axes>"
      ]
     },
     "metadata": {
      "needs_background": "light"
     },
     "output_type": "display_data"
    }
   ],
   "source": [
    "# roc curve and auc\n",
    "#from sklearn.datasets import make_classification\n",
    "from sklearn.linear_model import LogisticRegression\n",
    "\n",
    "from sklearn.model_selection import train_test_split\n",
    "from sklearn.metrics import roc_curve\n",
    "from sklearn.metrics import roc_auc_score\n",
    "from sklearn.multiclass import OneVsRestClassifier\n",
    "from matplotlib import pyplot\n",
    "# generate 2 class dataset\n",
    "\n",
    "# split into train/test sets\n",
    "from sklearn.model_selection import train_test_split\n",
    "X_train,X_test,y_train,y_test=train_test_split(Y,q,test_size=0.2,random_state=0)\n",
    "# generate a no skill prediction (majority class)\n",
    "ns_probs = [0 for _ in range(len(y_test))]\n",
    "# fit a model\n",
    "model = LogisticRegression(multi_class='ovr')\n",
    "detect=model.fit(X_train, y_train)\n",
    "y_pred=detect.predict(X_test)\n",
    "from sklearn.metrics import accuracy_score\n",
    "accuracy=accuracy_score(y_test,y_pred)\n",
    "print(\"Accuracy of the LR model is for neutral class\", accuracy)\n",
    "# predict probabilities\n",
    "lr_probs = model.predict_proba(X_test)\n",
    "# keep probabilities for the positive outcome only\n",
    "lr_probs = lr_probs[:, 1]\n",
    "# calculate scores\n",
    "\n",
    "\n",
    "\n",
    "ns_auc = roc_auc_score(y_test, ns_probs)\n",
    "lr_auc = roc_auc_score(y_test, lr_probs)\n",
    "# summarize scores\n",
    "print('No Skill: ROC AUC=%.3f' % (ns_auc))\n",
    "print('Logistic: ROC AUC=%.3f' % (lr_auc))\n",
    "# calculate roc curves\n",
    "ns_fpr, ns_tpr, _ = roc_curve(y_test, ns_probs)\n",
    "lr_fpr, lr_tpr, _ = roc_curve(y_test, lr_probs)\n",
    "# plot the roc curve for the model\n",
    "pyplot.title(\"LR for neutral class\")\n",
    "pyplot.plot(ns_fpr, ns_tpr, linestyle='--', label='No Skill')\n",
    "pyplot.plot(lr_fpr, lr_tpr, marker='.', label='Logistic')\n",
    "# axis labels\n",
    "pyplot.xlabel('False Positive Rate')\n",
    "pyplot.ylabel('True Positive Rate')\n",
    "# show the legend\n",
    "pyplot.legend()\n",
    "# show the plot\n",
    "pyplot.show()\n"
   ]
  },
  {
   "cell_type": "code",
   "execution_count": 117,
   "id": "d3805a1b",
   "metadata": {},
   "outputs": [
    {
     "name": "stdout",
     "output_type": "stream",
     "text": [
      "Accuracy of the LR model is for neutral class 0.8887877684746996\n",
      "No Skill: ROC AUC=0.500\n",
      "Logistic: ROC AUC=0.609\n"
     ]
    },
    {
     "data": {
      "image/png": "[encoded data removed]",
      "text/plain": [
       "<Figure size 432x288 with 1 Axes>"
      ]
     },
     "metadata": {
      "needs_background": "light"
     },
     "output_type": "display_data"
    }
   ],
   "source": [
    "# roc curve and auc\n",
    "#from sklearn.datasets import make_classification\n",
    "from sklearn.linear_model import LogisticRegression\n",
    "from sklearn.svm import LinearSVC\n",
    "from sklearn.model_selection import train_test_split\n",
    "from sklearn.metrics import roc_curve\n",
    "from sklearn.metrics import roc_auc_score\n",
    "from sklearn.multiclass import OneVsRestClassifier\n",
    "from matplotlib import pyplot\n",
    "# generate 2 class dataset\n",
    "\n",
    "# split into train/test sets\n",
    "from sklearn.model_selection import train_test_split\n",
    "X_train,X_test,y_train,y_test=train_test_split(Y,q,test_size=0.2,random_state=0)\n",
    "# generate a no skill prediction (majority class)\n",
    "ns_probs = [0 for _ in range(len(y_test))]\n",
    "# fit a model\n",
    "model = LinearSVC()\n",
    "detect=model.fit(X_train, y_train)\n",
    "y_pred=detect.predict(X_test)\n",
    "from sklearn.metrics import accuracy_score\n",
    "accuracy=accuracy_score(y_test,y_pred)\n",
    "print(\"Accuracy of the LR model is for neutral class\", accuracy)\n",
    "# predict probabilities\n",
    "lr_probs = model.predict(X_test)\n",
    "# keep probabilities for the positive outcome only\n",
    "lr_probs = lr_probs[:]\n",
    "# calculate scores\n",
    "\n",
    "\n",
    "\n",
    "ns_auc = roc_auc_score(y_test, ns_probs)\n",
    "lr_auc = roc_auc_score(y_test, lr_probs)\n",
    "# summarize scores\n",
    "print('No Skill: ROC AUC=%.3f' % (ns_auc))\n",
    "print('Logistic: ROC AUC=%.3f' % (lr_auc))\n",
    "# calculate roc curves\n",
    "ns_fpr, ns_tpr, _ = roc_curve(y_test, ns_probs)\n",
    "lr_fpr, lr_tpr, _ = roc_curve(y_test, lr_probs)\n",
    "# plot the roc curve for the model\n",
    "pyplot.title(\" LinearSVC for neutral class\")\n",
    "pyplot.plot(ns_fpr, ns_tpr, linestyle='--', label='No Skill')\n",
    "pyplot.plot(lr_fpr, lr_tpr, marker='.', label=' LinearSVC')\n",
    "# axis labels\n",
    "pyplot.xlabel('False Positive Rate')\n",
    "pyplot.ylabel('True Positive Rate')\n",
    "# show the legend\n",
    "pyplot.legend()\n",
    "# show the plot\n",
    "pyplot.show()"
   ]
  },
  {
   "cell_type": "code",
   "execution_count": 118,
   "id": "06646415",
   "metadata": {},
   "outputs": [
    {
     "name": "stdout",
     "output_type": "stream",
     "text": [
      "0      neutral\n",
      "1     positive\n",
      "2      neutral\n",
      "3      neutral\n",
      "4      neutral\n",
      "5      neutral\n",
      "6      neutral\n",
      "7      neutral\n",
      "8      neutral\n",
      "9     positive\n",
      "10     neutral\n",
      "11     neutral\n",
      "12     neutral\n",
      "13     neutral\n",
      "14     neutral\n",
      "15    positive\n",
      "16    positive\n",
      "17     neutral\n",
      "18     neutral\n",
      "19     neutral\n",
      "Name: sentiment, dtype: object\n"
     ]
    },
    {
     "data": {
      "text/plain": [
       "array([0, 1, 0, 0, 0, 0, 0, 0, 0, 1, 0, 0, 0, 0], dtype=uint8)"
      ]
     },
     "execution_count": 118,
     "metadata": {},
     "output_type": "execute_result"
    }
   ],
   "source": [
    "print(w.head(20))\n",
    "#spam colunfor neutal value will be 1 for positive value will be 2 and for negative value will be 0\n",
    "q=pd.get_dummies(w)\n",
    "q=q.iloc[:,2].values\n",
    "q[0:14]"
   ]
  },
  {
   "cell_type": "code",
   "execution_count": 119,
   "id": "9cef3daa",
   "metadata": {},
   "outputs": [
    {
     "name": "stdout",
     "output_type": "stream",
     "text": [
      "Accuracy of the LR model is for positive class 0.9344739716053877\n",
      "No Skill: ROC AUC=0.500\n",
      "Logistic: ROC AUC=0.705\n"
     ]
    },
    {
     "data": {
      "image/png": "[encoded data removed]",
      "text/plain": [
       "<Figure size 432x288 with 1 Axes>"
      ]
     },
     "metadata": {
      "needs_background": "light"
     },
     "output_type": "display_data"
    }
   ],
   "source": [
    "# roc curve and auc\n",
    "#from sklearn.datasets import make_classification\n",
    "from sklearn.linear_model import LogisticRegression\n",
    "from sklearn.model_selection import train_test_split\n",
    "from sklearn.metrics import roc_curve\n",
    "from sklearn.metrics import roc_auc_score\n",
    "from sklearn.multiclass import OneVsRestClassifier\n",
    "from matplotlib import pyplot\n",
    "# generate 2 class dataset\n",
    "\n",
    "# split into train/test sets\n",
    "from sklearn.model_selection import train_test_split\n",
    "X_train,X_test,y_train,y_test=train_test_split(Y,q,test_size=0.2,random_state=0)\n",
    "# generate a no skill prediction (majority class)\n",
    "ns_probs = [0 for _ in range(len(y_test))]\n",
    "# fit a model\n",
    "model = LogisticRegression(multi_class='ovr')\n",
    "detect=model.fit(X_train, y_train)\n",
    "y_pred=detect.predict(X_test)\n",
    "from sklearn.metrics import accuracy_score\n",
    "accuracy=accuracy_score(y_test,y_pred)\n",
    "print(\"Accuracy of the LR model is for positive class\", accuracy)\n",
    "# predict probabilities\n",
    "lr_probs = model.predict_proba(X_test)\n",
    "# keep probabilities for the positive outcome only\n",
    "lr_probs = lr_probs[:, 1]\n",
    "# calculate scores\n",
    "\n",
    "\n",
    "\n",
    "ns_auc = roc_auc_score(y_test, ns_probs)\n",
    "lr_auc = roc_auc_score(y_test, lr_probs)\n",
    "# summarize scores\n",
    "print('No Skill: ROC AUC=%.3f' % (ns_auc))\n",
    "print('Logistic: ROC AUC=%.3f' % (lr_auc))\n",
    "# calculate roc curves\n",
    "ns_fpr, ns_tpr, _ = roc_curve(y_test, ns_probs)\n",
    "lr_fpr, lr_tpr, _ = roc_curve(y_test, lr_probs)\n",
    "# plot the roc curve for the model\n",
    "pyplot.title(\"LR for positive class\")\n",
    "pyplot.plot(ns_fpr, ns_tpr, linestyle='--', label='No Skill')\n",
    "pyplot.plot(lr_fpr, lr_tpr, marker='.', label='Logistic')\n",
    "# axis labels\n",
    "pyplot.xlabel('False Positive Rate')\n",
    "pyplot.ylabel('True Positive Rate')\n",
    "# show the legend\n",
    "pyplot.legend()\n",
    "# show the plot\n",
    "pyplot.show()"
   ]
  },
  {
   "cell_type": "code",
   "execution_count": 120,
   "id": "a04cc9c5",
   "metadata": {},
   "outputs": [
    {
     "name": "stdout",
     "output_type": "stream",
     "text": [
      "Accuracy of the LR model is for neutral class 0.9344739716053877\n",
      "No Skill: ROC AUC=0.500\n",
      "Logistic: ROC AUC=0.638\n"
     ]
    },
    {
     "data": {
      "image/png": "[encoded data removed]",
      "text/plain": [
       "<Figure size 432x288 with 1 Axes>"
      ]
     },
     "metadata": {
      "needs_background": "light"
     },
     "output_type": "display_data"
    }
   ],
   "source": [
    "# roc curve and auc\n",
    "#from sklearn.datasets import make_classification\n",
    "from sklearn.linear_model import LogisticRegression\n",
    "from sklearn.svm import LinearSVC\n",
    "from sklearn.model_selection import train_test_split\n",
    "from sklearn.metrics import roc_curve\n",
    "from sklearn.metrics import roc_auc_score\n",
    "from sklearn.multiclass import OneVsRestClassifier\n",
    "from matplotlib import pyplot\n",
    "# generate 2 class dataset\n",
    "\n",
    "# split into train/test sets\n",
    "from sklearn.model_selection import train_test_split\n",
    "X_train,X_test,y_train,y_test=train_test_split(Y,q,test_size=0.2,random_state=0)\n",
    "# generate a no skill prediction (majority class)\n",
    "ns_probs = [0 for _ in range(len(y_test))]\n",
    "# fit a model\n",
    "model = LinearSVC()\n",
    "detect=model.fit(X_train, y_train)\n",
    "y_pred=detect.predict(X_test)\n",
    "from sklearn.metrics import accuracy_score\n",
    "accuracy=accuracy_score(y_test,y_pred)\n",
    "print(\"Accuracy of the LR model is for neutral class\", accuracy)\n",
    "# predict probabilities\n",
    "lr_probs = model.predict(X_test)\n",
    "# keep probabilities for the positive outcome only\n",
    "lr_probs = lr_probs[:]\n",
    "# calculate scores\n",
    "\n",
    "\n",
    "\n",
    "ns_auc = roc_auc_score(y_test, ns_probs)\n",
    "lr_auc = roc_auc_score(y_test, lr_probs)\n",
    "# summarize scores\n",
    "print('No Skill: ROC AUC=%.3f' % (ns_auc))\n",
    "print('Logistic: ROC AUC=%.3f' % (lr_auc))\n",
    "# calculate roc curves\n",
    "ns_fpr, ns_tpr, _ = roc_curve(y_test, ns_probs)\n",
    "lr_fpr, lr_tpr, _ = roc_curve(y_test, lr_probs)\n",
    "# plot the roc curve for the model\n",
    "pyplot.title(\" LinearSVC for positive class\")\n",
    "pyplot.plot(ns_fpr, ns_tpr, linestyle='--', label='No Skill')\n",
    "pyplot.plot(lr_fpr, lr_tpr, marker='.', label=' LinearSVC')\n",
    "# axis labels\n",
    "pyplot.xlabel('False Positive Rate')\n",
    "pyplot.ylabel('True Positive Rate')\n",
    "# show the legend\n",
    "pyplot.legend()\n",
    "# show the plot\n",
    "pyplot.show()"
   ]
  },
  {
   "cell_type": "code",
   "execution_count": 121,
   "id": "02a9de8d",
   "metadata": {},
   "outputs": [
    {
     "name": "stdout",
     "output_type": "stream",
     "text": [
      "0      neutral\n",
      "1     positive\n",
      "2      neutral\n",
      "3      neutral\n",
      "4      neutral\n",
      "5      neutral\n",
      "6      neutral\n",
      "7      neutral\n",
      "8      neutral\n",
      "9     positive\n",
      "10     neutral\n",
      "11     neutral\n",
      "12     neutral\n",
      "13     neutral\n",
      "14     neutral\n",
      "15    positive\n",
      "16    positive\n",
      "17     neutral\n",
      "18     neutral\n",
      "19     neutral\n",
      "Name: sentiment, dtype: object\n"
     ]
    },
    {
     "data": {
      "text/plain": [
       "array([0, 0, 0, 0, 0, 0, 0, 0, 0, 0, 0, 0, 0, 0], dtype=uint8)"
      ]
     },
     "execution_count": 121,
     "metadata": {},
     "output_type": "execute_result"
    }
   ],
   "source": [
    "print(w.head(20))\n",
    "#spam colunfor neutal value will be 1 for positive value will be 2 and for negative value will be 0\n",
    "q=pd.get_dummies(w)\n",
    "q=q.iloc[:,0].values\n",
    "q[0:14]"
   ]
  },
  {
   "cell_type": "code",
   "execution_count": 122,
   "id": "acd24604",
   "metadata": {},
   "outputs": [
    {
     "name": "stdout",
     "output_type": "stream",
     "text": [
      "Accuracy of the LR model is for negative class 0.953403713141609\n",
      "No Skill: ROC AUC=0.500\n",
      "Logistic: ROC AUC=0.635\n"
     ]
    },
    {
     "data": {
      "image/png": "[encoded data removed]",
      "text/plain": [
       "<Figure size 432x288 with 1 Axes>"
      ]
     },
     "metadata": {
      "needs_background": "light"
     },
     "output_type": "display_data"
    }
   ],
   "source": [
    "# roc curve and auc\n",
    "#from sklearn.datasets import make_classification\n",
    "from sklearn.linear_model import LogisticRegression\n",
    "from sklearn.model_selection import train_test_split\n",
    "from sklearn.metrics import roc_curve\n",
    "from sklearn.metrics import roc_auc_score\n",
    "from sklearn.multiclass import OneVsRestClassifier\n",
    "from matplotlib import pyplot\n",
    "# generate 2 class dataset\n",
    "\n",
    "# split into train/test sets\n",
    "from sklearn.model_selection import train_test_split\n",
    "X_train,X_test,y_train,y_test=train_test_split(Y,q,test_size=0.2,random_state=0)\n",
    "# generate a no skill prediction (majority class)\n",
    "ns_probs = [0 for _ in range(len(y_test))]\n",
    "# fit a model\n",
    "model = LogisticRegression(multi_class='ovr')\n",
    "detect=model.fit(X_train, y_train)\n",
    "y_pred=detect.predict(X_test)\n",
    "from sklearn.metrics import accuracy_score\n",
    "accuracy=accuracy_score(y_test,y_pred)\n",
    "print(\"Accuracy of the LR model is for negative class\", accuracy)\n",
    "# predict probabilities\n",
    "lr_probs = model.predict_proba(X_test)\n",
    "# keep probabilities for the positive outcome only\n",
    "lr_probs = lr_probs[:, 1]\n",
    "# calculate scores\n",
    "\n",
    "\n",
    "\n",
    "ns_auc = roc_auc_score(y_test, ns_probs)\n",
    "lr_auc = roc_auc_score(y_test, lr_probs)\n",
    "# summarize scores\n",
    "print('No Skill: ROC AUC=%.3f' % (ns_auc))\n",
    "print('Logistic: ROC AUC=%.3f' % (lr_auc))\n",
    "# calculate roc curves\n",
    "ns_fpr, ns_tpr, _ = roc_curve(y_test, ns_probs)\n",
    "lr_fpr, lr_tpr, _ = roc_curve(y_test, lr_probs)\n",
    "# plot the roc curve for the model\n",
    "pyplot.title(\"LR for negative class\")\n",
    "pyplot.plot(ns_fpr, ns_tpr, linestyle='--', label='No Skill')\n",
    "pyplot.plot(lr_fpr, lr_tpr, marker='.', label='Logistic')\n",
    "# axis labels\n",
    "pyplot.xlabel('False Positive Rate')\n",
    "pyplot.ylabel('True Positive Rate')\n",
    "# show the legend\n",
    "pyplot.legend()\n",
    "# show the plot\n",
    "pyplot.show()"
   ]
  },
  {
   "cell_type": "code",
   "execution_count": 123,
   "id": "1f63d003",
   "metadata": {},
   "outputs": [
    {
     "name": "stdout",
     "output_type": "stream",
     "text": [
      "Accuracy of the LR model is for neutral class 0.953403713141609\n",
      "No Skill: ROC AUC=0.500\n",
      "Logistic: ROC AUC=0.557\n"
     ]
    },
    {
     "data": {
      "image/png": "[encoded data removed]",
      "text/plain": [
       "<Figure size 432x288 with 1 Axes>"
      ]
     },
     "metadata": {
      "needs_background": "light"
     },
     "output_type": "display_data"
    }
   ],
   "source": [
    "# roc curve and auc\n",
    "#from sklearn.datasets import make_classification\n",
    "from sklearn.linear_model import LogisticRegression\n",
    "from sklearn.svm import LinearSVC\n",
    "from sklearn.model_selection import train_test_split\n",
    "from sklearn.metrics import roc_curve\n",
    "from sklearn.metrics import roc_auc_score\n",
    "from sklearn.multiclass import OneVsRestClassifier\n",
    "from matplotlib import pyplot\n",
    "# generate 2 class dataset\n",
    "\n",
    "# split into train/test sets\n",
    "from sklearn.model_selection import train_test_split\n",
    "X_train,X_test,y_train,y_test=train_test_split(Y,q,test_size=0.2,random_state=0)\n",
    "# generate a no skill prediction (majority class)\n",
    "ns_probs = [0 for _ in range(len(y_test))]\n",
    "# fit a model\n",
    "model = LinearSVC()\n",
    "detect=model.fit(X_train, y_train)\n",
    "y_pred=detect.predict(X_test)\n",
    "from sklearn.metrics import accuracy_score\n",
    "accuracy=accuracy_score(y_test,y_pred)\n",
    "print(\"Accuracy of the LR model is for neutral class\", accuracy)\n",
    "# predict probabilities\n",
    "lr_probs = model.predict(X_test)\n",
    "# keep probabilities for the positive outcome only\n",
    "lr_probs = lr_probs[:]\n",
    "# calculate scores\n",
    "\n",
    "\n",
    "\n",
    "ns_auc = roc_auc_score(y_test, ns_probs)\n",
    "lr_auc = roc_auc_score(y_test, lr_probs)\n",
    "# summarize scores\n",
    "print('No Skill: ROC AUC=%.3f' % (ns_auc))\n",
    "print('Logistic: ROC AUC=%.3f' % (lr_auc))\n",
    "# calculate roc curves\n",
    "ns_fpr, ns_tpr, _ = roc_curve(y_test, ns_probs)\n",
    "lr_fpr, lr_tpr, _ = roc_curve(y_test, lr_probs)\n",
    "# plot the roc curve for the model\n",
    "pyplot.title(\" LinearSVC for negative class\")\n",
    "pyplot.plot(ns_fpr, ns_tpr, linestyle='--', label='No Skill')\n",
    "pyplot.plot(lr_fpr, lr_tpr, marker='.', label=' LinearSVC')\n",
    "# axis labels\n",
    "pyplot.xlabel('False Positive Rate')\n",
    "pyplot.ylabel('True Positive Rate')\n",
    "# show the legend\n",
    "pyplot.legend()\n",
    "# show the plot\n",
    "pyplot.show()"
   ]
  },
  {
   "cell_type": "code",
   "execution_count": 124,
   "id": "e4a73763",
   "metadata": {},
   "outputs": [
    {
     "name": "stdout",
     "output_type": "stream",
     "text": [
      "Accuracy of the MLP  negative model is 0.9534947215143793\n",
      "No Skill: ROC AUC=0.500\n",
      "Logistic: ROC AUC=0.637\n"
     ]
    },
    {
     "data": {
      "image/png": "[encoded data removed]",
      "text/plain": [
       "<Figure size 432x288 with 1 Axes>"
      ]
     },
     "metadata": {
      "needs_background": "light"
     },
     "output_type": "display_data"
    }
   ],
   "source": [
    "# roc curve and auc\n",
    "#from sklearn.datasets import make_classification\n",
    "\n",
    "from sklearn.model_selection import train_test_split\n",
    "from sklearn.metrics import roc_curve\n",
    "from sklearn.metrics import roc_auc_score\n",
    "from sklearn.neural_network import MLPClassifier\n",
    "from matplotlib import pyplot\n",
    "# generate 2 class dataset\n",
    "\n",
    "# split into train/test sets\n",
    "from sklearn.model_selection import train_test_split\n",
    "X_train,X_test,y_train,y_test=train_test_split(Y,q,test_size=0.2,random_state=0)\n",
    "# generate a no skill prediction (majority class)\n",
    "ns_probs = [0 for _ in range(len(y_test))]\n",
    "# fit a model\n",
    "model = MLPClassifier()\n",
    "detect=model.fit(X_train, y_train)\n",
    "y_pred=detect.predict(X_test)\n",
    "from sklearn.metrics import accuracy_score\n",
    "accuracy=accuracy_score(y_test,y_pred)\n",
    "print(\"Accuracy of the MLP  negative model is\", accuracy)\n",
    "# predict probabilities\n",
    "lr_probs = model.predict_proba(X_test)\n",
    "# keep probabilities for the positive outcome only\n",
    "lr_probs = lr_probs[:, 1]\n",
    "# calculate scores\n",
    "\n",
    "\n",
    "\n",
    "ns_auc = roc_auc_score(y_test, ns_probs)\n",
    "lr_auc = roc_auc_score(y_test, lr_probs)\n",
    "# summarize scores\n",
    "print('No Skill: ROC AUC=%.3f' % (ns_auc))\n",
    "print('Logistic: ROC AUC=%.3f' % (lr_auc))\n",
    "# calculate roc curves\n",
    "ns_fpr, ns_tpr, _ = roc_curve(y_test, ns_probs)\n",
    "lr_fpr, lr_tpr, _ = roc_curve(y_test, lr_probs)\n",
    "# plot the roc curve for the model\n",
    "pyplot.plot(ns_fpr, ns_tpr, linestyle='--', label='No Skill')\n",
    "pyplot.plot(lr_fpr, lr_tpr, marker='.', label='MLP')\n",
    "# axis labels\n",
    "pyplot.xlabel('False Positive Rate')\n",
    "pyplot.ylabel('True Positive Rate')\n",
    "# show the legend\n",
    "pyplot.legend()\n",
    "# show the plot\n",
    "pyplot.show()"
   ]
  },
  {
   "cell_type": "code",
   "execution_count": null,
   "id": "339cbbea",
   "metadata": {},
   "outputs": [],
   "source": []
  },
  {
   "cell_type": "code",
   "execution_count": null,
   "id": "545ad0d4",
   "metadata": {},
   "outputs": [],
   "source": []
  },
  {
   "cell_type": "code",
   "execution_count": null,
   "id": "f285ca42",
   "metadata": {},
   "outputs": [],
   "source": []
  },
  {
   "cell_type": "code",
   "execution_count": null,
   "id": "a47853eb",
   "metadata": {},
   "outputs": [],
   "source": []
  }
 ],
 "metadata": {
  "kernelspec": {
   "display_name": "Python 3 (ipykernel)",
   "language": "python",
   "name": "python3"
  },
  "language_info": {
   "codemirror_mode": {
    "name": "ipython",
    "version": 3
   },
   "file_extension": ".py",
   "mimetype": "text/x-python",
   "name": "python",
   "nbconvert_exporter": "python",
   "pygments_lexer": "ipython3",
   "version": "3.8.8"
  }
 },
 "nbformat": 4,
 "nbformat_minor": 5
}
