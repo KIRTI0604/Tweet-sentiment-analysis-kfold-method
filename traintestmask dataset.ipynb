{
 "cells": [
  {
   "cell_type": "code",
   "execution_count": 1,
   "id": "c9886f8b",
   "metadata": {},
   "outputs": [
    {
     "name": "stdout",
     "output_type": "stream",
     "text": [
      "cell 1 17\t\n"
     ]
    }
   ],
   "source": [
    "#calling all needed packages\n",
    "import os\n",
    "import pandas as pd\n",
    "import matplotlib.pyplot as plt\n",
    "import seaborn as sns\n",
    "import itertools\n",
    "import collections\n",
    "\n",
    "import tweepy as tw\n",
    "import nltk\n",
    "from nltk.corpus import stopwords\n",
    "import re\n",
    "import networkx\n",
    "from textblob import TextBlob\n",
    "\n",
    "import warnings\n",
    "import csv\n",
    "warnings.filterwarnings(\"ignore\")\n",
    "\n",
    "sns.set(font_scale=1.5)\n",
    "sns.set_style(\"whitegrid\")\n",
    "print(\"cell 1 17\\11\")"
   ]
  },
  {
   "cell_type": "code",
   "execution_count": 2,
   "id": "10a0f603",
   "metadata": {},
   "outputs": [
    {
     "name": "stdout",
     "output_type": "stream",
     "text": [
      "cell2  17/11\n"
     ]
    }
   ],
   "source": [
    "consumer_key=\"eqIQASCB8Y3FMj5Z1C5ikKzfc\"\n",
    "consumer_scret=\"aeEtnufunsCIwrqm7wNU9AEIyqF94FS6GY1c4z0zTs8qchjjqt\"\n",
    "access_token=\"1377948754658009093-BMOABJw3AlCOLAtd3x1ouIZiGJ4HNZ\"\n",
    "access_token_scret=\"I628eefbnpWzUDwvg9uV7ZtkDqzFcLUnOvYi56nEDbViE\"\n",
    "print(\"cell2  17/11\")"
   ]
  },
  {
   "cell_type": "code",
   "execution_count": 3,
   "id": "65ec78d8",
   "metadata": {},
   "outputs": [
    {
     "name": "stdout",
     "output_type": "stream",
     "text": [
      "cell3  17/11\n"
     ]
    }
   ],
   "source": [
    "#authontication\n",
    "auth=tw.OAuthHandler(consumer_key,consumer_scret)\n",
    "auth.set_access_token(access_token,access_token_scret)\n",
    "api=tw.API(auth,wait_on_rate_limit=True)\n",
    "print(\"cell3  17/11\")"
   ]
  },
  {
   "cell_type": "code",
   "execution_count": 4,
   "id": "c9235e0d",
   "metadata": {},
   "outputs": [
    {
     "name": "stdout",
     "output_type": "stream",
     "text": [
      "cell 4 17/11\n"
     ]
    }
   ],
   "source": [
    "#remove url\n",
    "def remove_url(txt):\n",
    "    \"\"\"Replace URLs found in a text string with nothing \n",
    "    (i.e. it will remove the URL from the string).\"\"\"\n",
    "    print(\"url removed\")\n",
    "    \"\"\"\"Parameters\n",
    "    ----------\n",
    "    txt : string\n",
    "        A text string that you want to parse and remove urls.\n",
    "\n",
    "    Returns\n",
    "    -------\n",
    "    The same txt string with url's removed.\n",
    "    \"\"\"\n",
    "\n",
    "    return \" \".join(re.sub(\"([^0-9A-Za-z \\t])|(\\w+:\\/\\/\\S+)\", \"\", txt).split())\n",
    "print(\"cell 4 17/11\")"
   ]
  },
  {
   "cell_type": "code",
   "execution_count": 5,
   "id": "84beb5d5",
   "metadata": {},
   "outputs": [
    {
     "ename": "TweepError",
     "evalue": "Twitter error response: status code = 401",
     "output_type": "error",
     "traceback": [
      "\u001b[1;31m---------------------------------------------------------------------------\u001b[0m",
      "\u001b[1;31mTweepError\u001b[0m                                Traceback (most recent call last)",
      "\u001b[1;32m<ipython-input-5-7bb02033863f>\u001b[0m in \u001b[0;36m<module>\u001b[1;34m\u001b[0m\n\u001b[0;32m      7\u001b[0m \u001b[1;32mwith\u001b[0m \u001b[0mcsvFile\u001b[0m\u001b[1;33m:\u001b[0m\u001b[1;33m\u001b[0m\u001b[1;33m\u001b[0m\u001b[0m\n\u001b[0;32m      8\u001b[0m     \u001b[0mcsvWriter\u001b[0m\u001b[1;33m=\u001b[0m\u001b[0mcsv\u001b[0m\u001b[1;33m.\u001b[0m\u001b[0mwriter\u001b[0m\u001b[1;33m(\u001b[0m\u001b[0mcsvFile\u001b[0m\u001b[1;33m)\u001b[0m\u001b[1;33m\u001b[0m\u001b[1;33m\u001b[0m\u001b[0m\n\u001b[1;32m----> 9\u001b[1;33m     for tweet in  tw.Cursor(api.search,\n\u001b[0m\u001b[0;32m     10\u001b[0m                    \u001b[0mq\u001b[0m\u001b[1;33m=\u001b[0m\u001b[0msearch_term\u001b[0m\u001b[1;33m,\u001b[0m\u001b[1;33m\u001b[0m\u001b[1;33m\u001b[0m\u001b[0m\n\u001b[0;32m     11\u001b[0m                    \u001b[0mlang\u001b[0m\u001b[1;33m=\u001b[0m\u001b[1;34m\"en\"\u001b[0m\u001b[1;33m,\u001b[0m\u001b[1;33m\u001b[0m\u001b[1;33m\u001b[0m\u001b[0m\n",
      "\u001b[1;32m~\\anaconda3\\lib\\site-packages\\tweepy\\cursor.py\u001b[0m in \u001b[0;36m__next__\u001b[1;34m(self)\u001b[0m\n\u001b[0;32m     49\u001b[0m \u001b[1;33m\u001b[0m\u001b[0m\n\u001b[0;32m     50\u001b[0m     \u001b[1;32mdef\u001b[0m \u001b[0m__next__\u001b[0m\u001b[1;33m(\u001b[0m\u001b[0mself\u001b[0m\u001b[1;33m)\u001b[0m\u001b[1;33m:\u001b[0m\u001b[1;33m\u001b[0m\u001b[1;33m\u001b[0m\u001b[0m\n\u001b[1;32m---> 51\u001b[1;33m         \u001b[1;32mreturn\u001b[0m \u001b[0mself\u001b[0m\u001b[1;33m.\u001b[0m\u001b[0mnext\u001b[0m\u001b[1;33m(\u001b[0m\u001b[1;33m)\u001b[0m\u001b[1;33m\u001b[0m\u001b[1;33m\u001b[0m\u001b[0m\n\u001b[0m\u001b[0;32m     52\u001b[0m \u001b[1;33m\u001b[0m\u001b[0m\n\u001b[0;32m     53\u001b[0m     \u001b[1;32mdef\u001b[0m \u001b[0mnext\u001b[0m\u001b[1;33m(\u001b[0m\u001b[0mself\u001b[0m\u001b[1;33m)\u001b[0m\u001b[1;33m:\u001b[0m\u001b[1;33m\u001b[0m\u001b[1;33m\u001b[0m\u001b[0m\n",
      "\u001b[1;32m~\\anaconda3\\lib\\site-packages\\tweepy\\cursor.py\u001b[0m in \u001b[0;36mnext\u001b[1;34m(self)\u001b[0m\n\u001b[0;32m    241\u001b[0m         \u001b[1;32mif\u001b[0m \u001b[0mself\u001b[0m\u001b[1;33m.\u001b[0m\u001b[0mcurrent_page\u001b[0m \u001b[1;32mis\u001b[0m \u001b[1;32mNone\u001b[0m \u001b[1;32mor\u001b[0m \u001b[0mself\u001b[0m\u001b[1;33m.\u001b[0m\u001b[0mpage_index\u001b[0m \u001b[1;33m==\u001b[0m \u001b[0mlen\u001b[0m\u001b[1;33m(\u001b[0m\u001b[0mself\u001b[0m\u001b[1;33m.\u001b[0m\u001b[0mcurrent_page\u001b[0m\u001b[1;33m)\u001b[0m \u001b[1;33m-\u001b[0m \u001b[1;36m1\u001b[0m\u001b[1;33m:\u001b[0m\u001b[1;33m\u001b[0m\u001b[1;33m\u001b[0m\u001b[0m\n\u001b[0;32m    242\u001b[0m             \u001b[1;31m# Reached end of current page, get the next page...\u001b[0m\u001b[1;33m\u001b[0m\u001b[1;33m\u001b[0m\u001b[1;33m\u001b[0m\u001b[0m\n\u001b[1;32m--> 243\u001b[1;33m             \u001b[0mself\u001b[0m\u001b[1;33m.\u001b[0m\u001b[0mcurrent_page\u001b[0m \u001b[1;33m=\u001b[0m \u001b[0mself\u001b[0m\u001b[1;33m.\u001b[0m\u001b[0mpage_iterator\u001b[0m\u001b[1;33m.\u001b[0m\u001b[0mnext\u001b[0m\u001b[1;33m(\u001b[0m\u001b[1;33m)\u001b[0m\u001b[1;33m\u001b[0m\u001b[1;33m\u001b[0m\u001b[0m\n\u001b[0m\u001b[0;32m    244\u001b[0m             \u001b[1;32mwhile\u001b[0m \u001b[0mlen\u001b[0m\u001b[1;33m(\u001b[0m\u001b[0mself\u001b[0m\u001b[1;33m.\u001b[0m\u001b[0mcurrent_page\u001b[0m\u001b[1;33m)\u001b[0m \u001b[1;33m==\u001b[0m \u001b[1;36m0\u001b[0m\u001b[1;33m:\u001b[0m\u001b[1;33m\u001b[0m\u001b[1;33m\u001b[0m\u001b[0m\n\u001b[0;32m    245\u001b[0m                 \u001b[0mself\u001b[0m\u001b[1;33m.\u001b[0m\u001b[0mcurrent_page\u001b[0m \u001b[1;33m=\u001b[0m \u001b[0mself\u001b[0m\u001b[1;33m.\u001b[0m\u001b[0mpage_iterator\u001b[0m\u001b[1;33m.\u001b[0m\u001b[0mnext\u001b[0m\u001b[1;33m(\u001b[0m\u001b[1;33m)\u001b[0m\u001b[1;33m\u001b[0m\u001b[1;33m\u001b[0m\u001b[0m\n",
      "\u001b[1;32m~\\anaconda3\\lib\\site-packages\\tweepy\\cursor.py\u001b[0m in \u001b[0;36mnext\u001b[1;34m(self)\u001b[0m\n\u001b[0;32m    130\u001b[0m \u001b[1;33m\u001b[0m\u001b[0m\n\u001b[0;32m    131\u001b[0m         \u001b[1;32mif\u001b[0m \u001b[0mself\u001b[0m\u001b[1;33m.\u001b[0m\u001b[0mindex\u001b[0m \u001b[1;33m>=\u001b[0m \u001b[0mlen\u001b[0m\u001b[1;33m(\u001b[0m\u001b[0mself\u001b[0m\u001b[1;33m.\u001b[0m\u001b[0mresults\u001b[0m\u001b[1;33m)\u001b[0m \u001b[1;33m-\u001b[0m \u001b[1;36m1\u001b[0m\u001b[1;33m:\u001b[0m\u001b[1;33m\u001b[0m\u001b[1;33m\u001b[0m\u001b[0m\n\u001b[1;32m--> 132\u001b[1;33m             \u001b[0mdata\u001b[0m \u001b[1;33m=\u001b[0m \u001b[0mself\u001b[0m\u001b[1;33m.\u001b[0m\u001b[0mmethod\u001b[0m\u001b[1;33m(\u001b[0m\u001b[0mmax_id\u001b[0m\u001b[1;33m=\u001b[0m\u001b[0mself\u001b[0m\u001b[1;33m.\u001b[0m\u001b[0mmax_id\u001b[0m\u001b[1;33m,\u001b[0m \u001b[0mparser\u001b[0m\u001b[1;33m=\u001b[0m\u001b[0mRawParser\u001b[0m\u001b[1;33m(\u001b[0m\u001b[1;33m)\u001b[0m\u001b[1;33m,\u001b[0m \u001b[1;33m*\u001b[0m\u001b[0mself\u001b[0m\u001b[1;33m.\u001b[0m\u001b[0margs\u001b[0m\u001b[1;33m,\u001b[0m \u001b[1;33m**\u001b[0m\u001b[0mself\u001b[0m\u001b[1;33m.\u001b[0m\u001b[0mkwargs\u001b[0m\u001b[1;33m)\u001b[0m\u001b[1;33m\u001b[0m\u001b[1;33m\u001b[0m\u001b[0m\n\u001b[0m\u001b[0;32m    133\u001b[0m \u001b[1;33m\u001b[0m\u001b[0m\n\u001b[0;32m    134\u001b[0m             \u001b[1;32mif\u001b[0m \u001b[0mhasattr\u001b[0m\u001b[1;33m(\u001b[0m\u001b[0mself\u001b[0m\u001b[1;33m.\u001b[0m\u001b[0mmethod\u001b[0m\u001b[1;33m,\u001b[0m \u001b[1;34m'__self__'\u001b[0m\u001b[1;33m)\u001b[0m\u001b[1;33m:\u001b[0m\u001b[1;33m\u001b[0m\u001b[1;33m\u001b[0m\u001b[0m\n",
      "\u001b[1;32m~\\anaconda3\\lib\\site-packages\\tweepy\\binder.py\u001b[0m in \u001b[0;36m_call\u001b[1;34m(*args, **kwargs)\u001b[0m\n\u001b[0;32m    251\u001b[0m                 \u001b[1;32mreturn\u001b[0m \u001b[0mmethod\u001b[0m\u001b[1;33m\u001b[0m\u001b[1;33m\u001b[0m\u001b[0m\n\u001b[0;32m    252\u001b[0m             \u001b[1;32melse\u001b[0m\u001b[1;33m:\u001b[0m\u001b[1;33m\u001b[0m\u001b[1;33m\u001b[0m\u001b[0m\n\u001b[1;32m--> 253\u001b[1;33m                 \u001b[1;32mreturn\u001b[0m \u001b[0mmethod\u001b[0m\u001b[1;33m.\u001b[0m\u001b[0mexecute\u001b[0m\u001b[1;33m(\u001b[0m\u001b[1;33m)\u001b[0m\u001b[1;33m\u001b[0m\u001b[1;33m\u001b[0m\u001b[0m\n\u001b[0m\u001b[0;32m    254\u001b[0m         \u001b[1;32mfinally\u001b[0m\u001b[1;33m:\u001b[0m\u001b[1;33m\u001b[0m\u001b[1;33m\u001b[0m\u001b[0m\n\u001b[0;32m    255\u001b[0m             \u001b[0mmethod\u001b[0m\u001b[1;33m.\u001b[0m\u001b[0msession\u001b[0m\u001b[1;33m.\u001b[0m\u001b[0mclose\u001b[0m\u001b[1;33m(\u001b[0m\u001b[1;33m)\u001b[0m\u001b[1;33m\u001b[0m\u001b[1;33m\u001b[0m\u001b[0m\n",
      "\u001b[1;32m~\\anaconda3\\lib\\site-packages\\tweepy\\binder.py\u001b[0m in \u001b[0;36mexecute\u001b[1;34m(self)\u001b[0m\n\u001b[0;32m    232\u001b[0m                     \u001b[1;32mraise\u001b[0m \u001b[0mRateLimitError\u001b[0m\u001b[1;33m(\u001b[0m\u001b[0merror_msg\u001b[0m\u001b[1;33m,\u001b[0m \u001b[0mresp\u001b[0m\u001b[1;33m)\u001b[0m\u001b[1;33m\u001b[0m\u001b[1;33m\u001b[0m\u001b[0m\n\u001b[0;32m    233\u001b[0m                 \u001b[1;32melse\u001b[0m\u001b[1;33m:\u001b[0m\u001b[1;33m\u001b[0m\u001b[1;33m\u001b[0m\u001b[0m\n\u001b[1;32m--> 234\u001b[1;33m                     \u001b[1;32mraise\u001b[0m \u001b[0mTweepError\u001b[0m\u001b[1;33m(\u001b[0m\u001b[0merror_msg\u001b[0m\u001b[1;33m,\u001b[0m \u001b[0mresp\u001b[0m\u001b[1;33m,\u001b[0m \u001b[0mapi_code\u001b[0m\u001b[1;33m=\u001b[0m\u001b[0mapi_error_code\u001b[0m\u001b[1;33m)\u001b[0m\u001b[1;33m\u001b[0m\u001b[1;33m\u001b[0m\u001b[0m\n\u001b[0m\u001b[0;32m    235\u001b[0m \u001b[1;33m\u001b[0m\u001b[0m\n\u001b[0;32m    236\u001b[0m             \u001b[1;31m# Parse the response payload\u001b[0m\u001b[1;33m\u001b[0m\u001b[1;33m\u001b[0m\u001b[1;33m\u001b[0m\u001b[0m\n",
      "\u001b[1;31mTweepError\u001b[0m: Twitter error response: status code = 401"
     ]
    }
   ],
   "source": [
    "#various file are created with several #tags on mask like mask,#mask,#maskon,#WearAMask#WearYourMask,#WearAFuckingMask#facemask to collect all tweets and sorted them in seperate file INDIA MASKTWEETS.csv\n",
    "import csv\n",
    "search_term = \"mask\" + \"-filter:retweets\"\n",
    "csvFile=open(r'C:\\Users\\DELL\\Desktop\\mask covid19\\mask dataset\\file11113.csv','a')\n",
    "\n",
    "\n",
    "with csvFile:\n",
    "    csvWriter=csv.writer(csvFile)\n",
    "    for tweet in  tw.Cursor(api.search,\n",
    "                   q=search_term,\n",
    "                   lang=\"en\",\n",
    "                   since='2020-07-01').items():\n",
    "      csvWriter.writerow([tweet.created_at,tweet.text.encode('utf-8'),tweet.user.screen_name.encode('utf-8'),tweet.user.location.encode('utf-8')])\n",
    "print(type(tweet))\n",
    "print(\"file  updated\")"
   ]
  },
  {
   "cell_type": "code",
   "execution_count": 55,
   "id": "65b4f417",
   "metadata": {
    "scrolled": false
   },
   "outputs": [
    {
     "data": {
      "text/html": [
       "<div>\n",
       "<style scoped>\n",
       "    .dataframe tbody tr th:only-of-type {\n",
       "        vertical-align: middle;\n",
       "    }\n",
       "\n",
       "    .dataframe tbody tr th {\n",
       "        vertical-align: top;\n",
       "    }\n",
       "\n",
       "    .dataframe thead th {\n",
       "        text-align: right;\n",
       "    }\n",
       "</style>\n",
       "<table border=\"1\" class=\"dataframe\">\n",
       "  <thead>\n",
       "    <tr style=\"text-align: right;\">\n",
       "      <th></th>\n",
       "      <th>created_at</th>\n",
       "      <th>text</th>\n",
       "      <th>screen_name</th>\n",
       "      <th>location</th>\n",
       "    </tr>\n",
       "  </thead>\n",
       "  <tbody>\n",
       "    <tr>\n",
       "      <th>0</th>\n",
       "      <td>19-09-2021 06:25</td>\n",
       "      <td>b'#Loot\\nGet Pharmeasy Plus 3 Months Membershi...</td>\n",
       "      <td>b'on9deals'</td>\n",
       "      <td>b'Mumbai, India'</td>\n",
       "    </tr>\n",
       "    <tr>\n",
       "      <th>1</th>\n",
       "      <td>19-09-2021 04:45</td>\n",
       "      <td>b'@traffic_jpr Is face mask still mandatory, i...</td>\n",
       "      <td>b'mrinaljaipur'</td>\n",
       "      <td>b'Jaipur, India'</td>\n",
       "    </tr>\n",
       "    <tr>\n",
       "      <th>2</th>\n",
       "      <td>19-09-2021 04:22</td>\n",
       "      <td>b'Don\\xe2\\x80\\x99t let your guard down. The #C...</td>\n",
       "      <td>b'MayaSharmaNDTV'</td>\n",
       "      <td>b'Bengaluru, India'</td>\n",
       "    </tr>\n",
       "    <tr>\n",
       "      <th>3</th>\n",
       "      <td>18-09-2021 12:45</td>\n",
       "      <td>b'By using Mask and Getting Vaccinated, you un...</td>\n",
       "      <td>b'DoITCRaj'</td>\n",
       "      <td>b'Jaipur, India'</td>\n",
       "    </tr>\n",
       "    <tr>\n",
       "      <th>4</th>\n",
       "      <td>18-09-2021 08:28</td>\n",
       "      <td>b'On an average , 4 out of 10 people I see ins...</td>\n",
       "      <td>b'sajanjohn'</td>\n",
       "      <td>b'Bengaluru, India'</td>\n",
       "    </tr>\n",
       "  </tbody>\n",
       "</table>\n",
       "</div>"
      ],
      "text/plain": [
       "         created_at                                               text  \\\n",
       "0  19-09-2021 06:25  b'#Loot\\nGet Pharmeasy Plus 3 Months Membershi...   \n",
       "1  19-09-2021 04:45  b'@traffic_jpr Is face mask still mandatory, i...   \n",
       "2  19-09-2021 04:22  b'Don\\xe2\\x80\\x99t let your guard down. The #C...   \n",
       "3  18-09-2021 12:45  b'By using Mask and Getting Vaccinated, you un...   \n",
       "4  18-09-2021 08:28  b'On an average , 4 out of 10 people I see ins...   \n",
       "\n",
       "         screen_name             location  \n",
       "0        b'on9deals'     b'Mumbai, India'  \n",
       "1    b'mrinaljaipur'     b'Jaipur, India'  \n",
       "2  b'MayaSharmaNDTV'  b'Bengaluru, India'  \n",
       "3        b'DoITCRaj'     b'Jaipur, India'  \n",
       "4       b'sajanjohn'  b'Bengaluru, India'  "
      ]
     },
     "execution_count": 55,
     "metadata": {},
     "output_type": "execute_result"
    }
   ],
   "source": [
    "#collected indian tweets\n",
    "import numpy as np\n",
    "tweets = pd.read_csv(r'C:\\Users\\DELL\\Desktop\\mask covid19\\mask dataset\\INDIA MASKTWEETS.csv',header=None,names=[\"created_at\",\"text\",\"screen_name\",\"location\"])\n",
    "#np.random.seed(0)\n",
    "tweets.head()"
   ]
  },
  {
   "cell_type": "code",
   "execution_count": 56,
   "id": "ff3f5f8e",
   "metadata": {},
   "outputs": [
    {
     "data": {
      "text/plain": [
       "(4408, 4)"
      ]
     },
     "execution_count": 56,
     "metadata": {},
     "output_type": "execute_result"
    }
   ],
   "source": [
    "tweets.shape\n",
    "#type(tweets)\n",
    "#print(test.shape)"
   ]
  },
  {
   "cell_type": "code",
   "execution_count": 57,
   "id": "96d73652",
   "metadata": {},
   "outputs": [],
   "source": [
    "def removeb(text):\n",
    "    text=text.replace(\"b/'\",\"\")\n",
    " \n",
    "#data_tweet['tweet']=data_tweet['tweet'].apply(removeb)\n"
   ]
  },
  {
   "cell_type": "code",
   "execution_count": 58,
   "id": "3b4ae4ac",
   "metadata": {},
   "outputs": [
    {
     "data": {
      "text/html": [
       "<div>\n",
       "<style scoped>\n",
       "    .dataframe tbody tr th:only-of-type {\n",
       "        vertical-align: middle;\n",
       "    }\n",
       "\n",
       "    .dataframe tbody tr th {\n",
       "        vertical-align: top;\n",
       "    }\n",
       "\n",
       "    .dataframe thead th {\n",
       "        text-align: right;\n",
       "    }\n",
       "</style>\n",
       "<table border=\"1\" class=\"dataframe\">\n",
       "  <thead>\n",
       "    <tr style=\"text-align: right;\">\n",
       "      <th></th>\n",
       "      <th>text</th>\n",
       "      <th>location</th>\n",
       "      <th>screen_name</th>\n",
       "    </tr>\n",
       "  </thead>\n",
       "  <tbody>\n",
       "    <tr>\n",
       "      <th>0</th>\n",
       "      <td>b'#Loot\\nGet Pharmeasy Plus 3 Months Membershi...</td>\n",
       "      <td>b'Mumbai, India'</td>\n",
       "      <td>b'on9deals'</td>\n",
       "    </tr>\n",
       "    <tr>\n",
       "      <th>1</th>\n",
       "      <td>b'@traffic_jpr Is face mask still mandatory, i...</td>\n",
       "      <td>b'Jaipur, India'</td>\n",
       "      <td>b'mrinaljaipur'</td>\n",
       "    </tr>\n",
       "    <tr>\n",
       "      <th>2</th>\n",
       "      <td>b'Don\\xe2\\x80\\x99t let your guard down. The #C...</td>\n",
       "      <td>b'Bengaluru, India'</td>\n",
       "      <td>b'MayaSharmaNDTV'</td>\n",
       "    </tr>\n",
       "    <tr>\n",
       "      <th>3</th>\n",
       "      <td>b'By using Mask and Getting Vaccinated, you un...</td>\n",
       "      <td>b'Jaipur, India'</td>\n",
       "      <td>b'DoITCRaj'</td>\n",
       "    </tr>\n",
       "    <tr>\n",
       "      <th>4</th>\n",
       "      <td>b'On an average , 4 out of 10 people I see ins...</td>\n",
       "      <td>b'Bengaluru, India'</td>\n",
       "      <td>b'sajanjohn'</td>\n",
       "    </tr>\n",
       "    <tr>\n",
       "      <th>...</th>\n",
       "      <td>...</td>\n",
       "      <td>...</td>\n",
       "      <td>...</td>\n",
       "    </tr>\n",
       "    <tr>\n",
       "      <th>4403</th>\n",
       "      <td>b\"@micsolana If you want to die you can get #c...</td>\n",
       "      <td>b'India'</td>\n",
       "      <td>b'DhopateSaurabh'</td>\n",
       "    </tr>\n",
       "    <tr>\n",
       "      <th>4404</th>\n",
       "      <td>b\"Don't forget to wear your mask! Stay Safe.\\n...</td>\n",
       "      <td>b'Pune, India'</td>\n",
       "      <td>b'igiftlife'</td>\n",
       "    </tr>\n",
       "    <tr>\n",
       "      <th>4405</th>\n",
       "      <td>b\"Got my 2nd dose of #Corona #vaccine today. U...</td>\n",
       "      <td>b'India ,Odisha,Keonjhar (\\xe0\\xac\\x93\\xe0\\xad...</td>\n",
       "      <td>b'mahanta_keshari'</td>\n",
       "    </tr>\n",
       "    <tr>\n",
       "      <th>4406</th>\n",
       "      <td>b'Captain of #ChennaiSuperKings (CSK) #Mahendr...</td>\n",
       "      <td>b'New Delhi, India'</td>\n",
       "      <td>b'NH_India'</td>\n",
       "    </tr>\n",
       "    <tr>\n",
       "      <th>4407</th>\n",
       "      <td>b'All #COVID19 advisory were on #Tickets only ...</td>\n",
       "      <td>b'India'</td>\n",
       "      <td>b'Shubhamtomaradi'</td>\n",
       "    </tr>\n",
       "  </tbody>\n",
       "</table>\n",
       "<p>4408 rows × 3 columns</p>\n",
       "</div>"
      ],
      "text/plain": [
       "                                                   text  \\\n",
       "0     b'#Loot\\nGet Pharmeasy Plus 3 Months Membershi...   \n",
       "1     b'@traffic_jpr Is face mask still mandatory, i...   \n",
       "2     b'Don\\xe2\\x80\\x99t let your guard down. The #C...   \n",
       "3     b'By using Mask and Getting Vaccinated, you un...   \n",
       "4     b'On an average , 4 out of 10 people I see ins...   \n",
       "...                                                 ...   \n",
       "4403  b\"@micsolana If you want to die you can get #c...   \n",
       "4404  b\"Don't forget to wear your mask! Stay Safe.\\n...   \n",
       "4405  b\"Got my 2nd dose of #Corona #vaccine today. U...   \n",
       "4406  b'Captain of #ChennaiSuperKings (CSK) #Mahendr...   \n",
       "4407  b'All #COVID19 advisory were on #Tickets only ...   \n",
       "\n",
       "                                               location         screen_name  \n",
       "0                                      b'Mumbai, India'         b'on9deals'  \n",
       "1                                      b'Jaipur, India'     b'mrinaljaipur'  \n",
       "2                                   b'Bengaluru, India'   b'MayaSharmaNDTV'  \n",
       "3                                      b'Jaipur, India'         b'DoITCRaj'  \n",
       "4                                   b'Bengaluru, India'        b'sajanjohn'  \n",
       "...                                                 ...                 ...  \n",
       "4403                                           b'India'   b'DhopateSaurabh'  \n",
       "4404                                     b'Pune, India'        b'igiftlife'  \n",
       "4405  b'India ,Odisha,Keonjhar (\\xe0\\xac\\x93\\xe0\\xad...  b'mahanta_keshari'  \n",
       "4406                                b'New Delhi, India'         b'NH_India'  \n",
       "4407                                           b'India'  b'Shubhamtomaradi'  \n",
       "\n",
       "[4408 rows x 3 columns]"
      ]
     },
     "execution_count": 58,
     "metadata": {},
     "output_type": "execute_result"
    }
   ],
   "source": [
    "user_text=pd.DataFrame(data=tweets,columns=['text','location', 'screen_name'])\n",
    "user_text"
   ]
  },
  {
   "cell_type": "code",
   "execution_count": 59,
   "id": "d06cc3d3",
   "metadata": {},
   "outputs": [
    {
     "data": {
      "text/html": [
       "<div>\n",
       "<style scoped>\n",
       "    .dataframe tbody tr th:only-of-type {\n",
       "        vertical-align: middle;\n",
       "    }\n",
       "\n",
       "    .dataframe tbody tr th {\n",
       "        vertical-align: top;\n",
       "    }\n",
       "\n",
       "    .dataframe thead th {\n",
       "        text-align: right;\n",
       "    }\n",
       "</style>\n",
       "<table border=\"1\" class=\"dataframe\">\n",
       "  <thead>\n",
       "    <tr style=\"text-align: right;\">\n",
       "      <th></th>\n",
       "      <th>location</th>\n",
       "      <th>screen_name</th>\n",
       "    </tr>\n",
       "  </thead>\n",
       "  <tbody>\n",
       "    <tr>\n",
       "      <th>0</th>\n",
       "      <td>b'Mumbai, India'</td>\n",
       "      <td>b'on9deals'</td>\n",
       "    </tr>\n",
       "    <tr>\n",
       "      <th>1</th>\n",
       "      <td>b'Jaipur, India'</td>\n",
       "      <td>b'mrinaljaipur'</td>\n",
       "    </tr>\n",
       "    <tr>\n",
       "      <th>2</th>\n",
       "      <td>b'Bengaluru, India'</td>\n",
       "      <td>b'MayaSharmaNDTV'</td>\n",
       "    </tr>\n",
       "    <tr>\n",
       "      <th>3</th>\n",
       "      <td>b'Jaipur, India'</td>\n",
       "      <td>b'DoITCRaj'</td>\n",
       "    </tr>\n",
       "    <tr>\n",
       "      <th>4</th>\n",
       "      <td>b'Bengaluru, India'</td>\n",
       "      <td>b'sajanjohn'</td>\n",
       "    </tr>\n",
       "    <tr>\n",
       "      <th>...</th>\n",
       "      <td>...</td>\n",
       "      <td>...</td>\n",
       "    </tr>\n",
       "    <tr>\n",
       "      <th>4403</th>\n",
       "      <td>b'India'</td>\n",
       "      <td>b'DhopateSaurabh'</td>\n",
       "    </tr>\n",
       "    <tr>\n",
       "      <th>4404</th>\n",
       "      <td>b'Pune, India'</td>\n",
       "      <td>b'igiftlife'</td>\n",
       "    </tr>\n",
       "    <tr>\n",
       "      <th>4405</th>\n",
       "      <td>b'India ,Odisha,Keonjhar (\\xe0\\xac\\x93\\xe0\\xad...</td>\n",
       "      <td>b'mahanta_keshari'</td>\n",
       "    </tr>\n",
       "    <tr>\n",
       "      <th>4406</th>\n",
       "      <td>b'New Delhi, India'</td>\n",
       "      <td>b'NH_India'</td>\n",
       "    </tr>\n",
       "    <tr>\n",
       "      <th>4407</th>\n",
       "      <td>b'India'</td>\n",
       "      <td>b'Shubhamtomaradi'</td>\n",
       "    </tr>\n",
       "  </tbody>\n",
       "</table>\n",
       "<p>4408 rows × 2 columns</p>\n",
       "</div>"
      ],
      "text/plain": [
       "                                               location         screen_name\n",
       "0                                      b'Mumbai, India'         b'on9deals'\n",
       "1                                      b'Jaipur, India'     b'mrinaljaipur'\n",
       "2                                   b'Bengaluru, India'   b'MayaSharmaNDTV'\n",
       "3                                      b'Jaipur, India'         b'DoITCRaj'\n",
       "4                                   b'Bengaluru, India'        b'sajanjohn'\n",
       "...                                                 ...                 ...\n",
       "4403                                           b'India'   b'DhopateSaurabh'\n",
       "4404                                     b'Pune, India'        b'igiftlife'\n",
       "4405  b'India ,Odisha,Keonjhar (\\xe0\\xac\\x93\\xe0\\xad...  b'mahanta_keshari'\n",
       "4406                                b'New Delhi, India'         b'NH_India'\n",
       "4407                                           b'India'  b'Shubhamtomaradi'\n",
       "\n",
       "[4408 rows x 2 columns]"
      ]
     },
     "execution_count": 59,
     "metadata": {},
     "output_type": "execute_result"
    }
   ],
   "source": [
    "#user = [[tweet.location,tweet.screen_name] for tweet in tweets]\n",
    "#print(type(user))\n",
    "user_text=pd.DataFrame(data=tweets,columns=['location', 'screen_name'])\n",
    "user_text\n",
    "#type(tweets)"
   ]
  },
  {
   "cell_type": "code",
   "execution_count": 84,
   "id": "fec6dbb1",
   "metadata": {},
   "outputs": [
    {
     "data": {
      "text/plain": [
       "'0       0 bLootnGet Pharmeasy Plus 3 Months Membershi1...\\n1       0 bLootnGet Pharmeasy Plus 3 Months Membershi1...\\n2       0 bLootnGet Pharmeasy Plus 3 Months Membershi1...\\n3       0 bLootnGet Pharmeasy Plus 3 Months Membershi1...\\n4       0 bLootnGet Pharmeasy Plus 3 Months Membershi1...\\n                              ...                        \\n4403    0 bLootnGet Pharmeasy Plus 3 Months Membershi1...\\n4404    0 bLootnGet Pharmeasy Plus 3 Months Membershi1...\\n4405    0 bLootnGet Pharmeasy Plus 3 Months Membershi1...\\n4406    0 bLootnGet Pharmeasy Plus 3 Months Membershi1...\\n4407    0 bLootnGet Pharmeasy Plus 3 Months Membershi1...\\nName: text, Length: 4408, dtype: object'"
      ]
     },
     "execution_count": 84,
     "metadata": {},
     "output_type": "execute_result"
    }
   ],
   "source": [
    "type(tweets.text)\n",
    "tweet_str=str(tweets.text)\n",
    "type(tweet_str)\n",
    "tweet_str\n"
   ]
  },
  {
   "cell_type": "code",
   "execution_count": 86,
   "id": "c8bb1cdc",
   "metadata": {},
   "outputs": [
    {
     "data": {
      "text/plain": [
       "str"
      ]
     },
     "execution_count": 86,
     "metadata": {},
     "output_type": "execute_result"
    }
   ],
   "source": [
    "type(tweet_str)"
   ]
  },
  {
   "cell_type": "code",
   "execution_count": 93,
   "id": "30ed1488",
   "metadata": {},
   "outputs": [],
   "source": [
    "tweets_no_urls = [remove_url(tweet) for tweet in tweet_str ]\n"
   ]
  },
  {
   "cell_type": "code",
   "execution_count": 94,
   "id": "e2de9ed3",
   "metadata": {},
   "outputs": [
    {
     "data": {
      "text/plain": [
       "['0', '', '', '', '', '', '', '', '0', '']"
      ]
     },
     "execution_count": 94,
     "metadata": {},
     "output_type": "execute_result"
    }
   ],
   "source": [
    "tweets_no_urls[:10]"
   ]
  },
  {
   "cell_type": "code",
   "execution_count": null,
   "id": "eaf0e492",
   "metadata": {},
   "outputs": [],
   "source": []
  }
 ],
 "metadata": {
  "kernelspec": {
   "display_name": "Python 3",
   "language": "python",
   "name": "python3"
  },
  "language_info": {
   "codemirror_mode": {
    "name": "ipython",
    "version": 3
   },
   "file_extension": ".py",
   "mimetype": "text/x-python",
   "name": "python",
   "nbconvert_exporter": "python",
   "pygments_lexer": "ipython3",
   "version": "3.8.8"
  }
 },
 "nbformat": 4,
 "nbformat_minor": 5
}
