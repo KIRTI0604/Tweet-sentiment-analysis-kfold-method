{
 "cells": [
  {
   "cell_type": "code",
   "execution_count": 1,
   "id": "73e9dee8",
   "metadata": {},
   "outputs": [],
   "source": [
    "import nltk\n",
    "import pandas as pd\n",
    "from nltk.corpus import stopwords  # Importing Natural Language Toolkit\n",
    "\n",
    "messages=pd.read_csv(r'C:\\Users\\DELL\\Desktop\\RNTU\\dataset prepared\\Covid19\\covid combine\\COVID19__combine Unigram_Combine NEW sent pol.csv',header=None,names=[\"sentiment\",\"text\",\"polarity\",\"repetations\"])\n",
    "from nltk.corpus import stopwords\n",
    "import nltk\n",
    "from nltk.stem import PorterStemmer\n",
    "from nltk.stem import WordNetLemmatizer\n",
    "lemmatizer = WordNetLemmatizer()"
   ]
  },
  {
   "cell_type": "code",
   "execution_count": 2,
   "id": "48e9ef9a",
   "metadata": {},
   "outputs": [
    {
     "name": "stdout",
     "output_type": "stream",
     "text": [
      "           polarity   repetations\n",
      "count  17780.000000  17780.000000\n",
      "mean       0.000753      5.261361\n",
      "std        0.087847     51.168333\n",
      "min       -1.000000      1.000000\n",
      "25%        0.000000      1.000000\n",
      "50%        0.000000      1.000000\n",
      "75%        0.000000      3.000000\n",
      "max        1.000000   5968.000000\n"
     ]
    }
   ],
   "source": [
    "#descriptions\n",
    "print(messages.describe())"
   ]
  },
  {
   "cell_type": "code",
   "execution_count": 3,
   "id": "f76b2ca8",
   "metadata": {},
   "outputs": [
    {
     "name": "stdout",
     "output_type": "stream",
     "text": [
      "sentiment\n",
      "negative      302\n",
      "neutral     17146\n",
      "positive      332\n",
      "dtype: int64\n"
     ]
    }
   ],
   "source": [
    "# class distribution\n",
    "print(messages.groupby('sentiment').size())"
   ]
  },
  {
   "cell_type": "code",
   "execution_count": 4,
   "id": "b8921aa0",
   "metadata": {},
   "outputs": [
    {
     "data": {
      "image/png": "[encoded data removed]",
      "text/plain": [
       "<Figure size 432x288 with 4 Axes>"
      ]
     },
     "metadata": {
      "needs_background": "light"
     },
     "output_type": "display_data"
    }
   ],
   "source": [
    "from matplotlib import pyplot\n",
    "messages.plot(kind='box', subplots=True, layout=(2,2), sharex=False, sharey=False)\n",
    "pyplot.show()"
   ]
  },
  {
   "cell_type": "code",
   "execution_count": 5,
   "id": "502d53db",
   "metadata": {},
   "outputs": [
    {
     "data": {
      "text/plain": [
       "'amp'"
      ]
     },
     "execution_count": 5,
     "metadata": {},
     "output_type": "execute_result"
    }
   ],
   "source": [
    "messages['text'][5]"
   ]
  },
  {
   "cell_type": "code",
   "execution_count": 6,
   "id": "a7799c3b",
   "metadata": {
    "scrolled": true
   },
   "outputs": [],
   "source": [
    "lst=[]\n",
    "corpus = []\n",
    "for i in range(0,len(messages['text'])):\n",
    "    str1=str(messages['text'][i])\n",
    "    str1=str1.lower()\n",
    "    lst=str1.split()\n",
    "    lst= [lemmatizer.lemmatize(word) for word in lst if word not in set(stopwords.words(\"english\"))]\n",
    "    non_word=['n','rt','xe','xa','xc','co','xf','xxd','xs','x','nx','ni','nfor','nhow','eh','de''amo','nis','wa']\n",
    "    lst=[e for e in lst if e not in non_word]\n",
    "\n",
    "    corpus.append(lst)\n",
    "        "
   ]
  },
  {
   "cell_type": "code",
   "execution_count": 7,
   "id": "d7685226",
   "metadata": {},
   "outputs": [
    {
     "data": {
      "text/plain": [
       "17780"
      ]
     },
     "execution_count": 7,
     "metadata": {},
     "output_type": "execute_result"
    }
   ],
   "source": [
    "X=corpus\n",
    "len(X)"
   ]
  },
  {
   "cell_type": "code",
   "execution_count": 8,
   "id": "6a3938ed",
   "metadata": {},
   "outputs": [],
   "source": [
    "X=[]\n",
    "for i in range (len(corpus)):\n",
    "    c=''.join([str(elem+\" \") for elem in corpus[i]])\n",
    "    X.append(c)"
   ]
  },
  {
   "cell_type": "code",
   "execution_count": 9,
   "id": "56f45c38",
   "metadata": {},
   "outputs": [],
   "source": [
    "#bag of words converting X in vector numbers\n",
    "from sklearn.feature_extraction.text import CountVectorizer\n",
    "cv=CountVectorizer(max_features=3000)\n",
    "Y=cv.fit_transform(X).toarray()\n",
    "\n",
    "#y_score(y_test,y_pred)"
   ]
  },
  {
   "cell_type": "code",
   "execution_count": 10,
   "id": "24614541",
   "metadata": {},
   "outputs": [
    {
     "data": {
      "text/plain": [
       "array([[0, 0, 0, ..., 0, 0, 0],\n",
       "       [0, 0, 0, ..., 0, 0, 0],\n",
       "       [0, 0, 0, ..., 0, 0, 0],\n",
       "       ...,\n",
       "       [0, 0, 0, ..., 0, 0, 0],\n",
       "       [0, 0, 0, ..., 0, 0, 0],\n",
       "       [0, 0, 0, ..., 0, 0, 0]], dtype=int64)"
      ]
     },
     "execution_count": 10,
     "metadata": {},
     "output_type": "execute_result"
    }
   ],
   "source": [
    "Y"
   ]
  },
  {
   "cell_type": "code",
   "execution_count": 11,
   "id": "ad094733",
   "metadata": {},
   "outputs": [],
   "source": [
    "from sklearn.preprocessing import StandardScaler\n",
    "from sklearn.decomposition import TruncatedSVD\n",
    "from scipy.sparse import csr_matrix\n",
    "from sklearn import datasets"
   ]
  },
  {
   "cell_type": "code",
   "execution_count": 12,
   "id": "e3828bf5",
   "metadata": {},
   "outputs": [
    {
     "name": "stdout",
     "output_type": "stream",
     "text": [
      "[[0.00749974 0.01060654 0.01060654 ... 0.01060654 0.01060654 0.01060654]\n",
      " [0.00749974 0.01060654 0.01060654 ... 0.01060654 0.01060654 0.01060654]\n",
      " [0.00749974 0.01060654 0.01060654 ... 0.01060654 0.01060654 0.01060654]\n",
      " ...\n",
      " [0.00749974 0.01060654 0.01060654 ... 0.01060654 0.01060654 0.01060654]\n",
      " [0.00749974 0.01060654 0.01060654 ... 0.01060654 0.01060654 0.01060654]\n",
      " [0.00749974 0.01060654 0.01060654 ... 0.01060654 0.01060654 0.01060654]]\n",
      "  (0, 0)\t0.007499742200792585\n",
      "  (0, 1)\t0.010606535427157641\n",
      "  (0, 2)\t0.010606535427157128\n",
      "  (0, 3)\t0.010606535427158366\n",
      "  (0, 4)\t0.010606535427156895\n",
      "  (0, 5)\t0.010606535427156834\n",
      "  (0, 6)\t0.010606535427156765\n",
      "  (0, 7)\t0.01060653542715711\n",
      "  (0, 8)\t0.010606535427156899\n",
      "  (0, 9)\t0.010606535427157275\n",
      "  (0, 10)\t0.01060653542715709\n",
      "  (0, 11)\t0.010606535427156998\n",
      "  (0, 12)\t0.010606535427156897\n",
      "  (0, 13)\t0.010606535427156907\n",
      "  (0, 14)\t0.010606535427157034\n",
      "  (0, 15)\t0.010606535427157775\n",
      "  (0, 16)\t0.010606535427158491\n",
      "  (0, 17)\t0.010606535427157253\n",
      "  (0, 18)\t0.010606535427156914\n",
      "  (0, 19)\t0.010606535427156727\n",
      "  (0, 20)\t0.010606535427158085\n",
      "  (0, 21)\t0.01060653542715779\n",
      "  (0, 22)\t0.010606535427157008\n",
      "  (0, 23)\t0.010606535427157122\n",
      "  (0, 24)\t0.010606535427156873\n",
      "  :\t:\n",
      "  (17779, 2975)\t0.010606535427156739\n",
      "  (17779, 2976)\t0.010606535427156706\n",
      "  (17779, 2977)\t0.010606535427156831\n",
      "  (17779, 2978)\t0.010606535427157098\n",
      "  (17779, 2979)\t0.01060653542715698\n",
      "  (17779, 2980)\t0.010606535427157851\n",
      "  (17779, 2981)\t0.010606535427157022\n",
      "  (17779, 2982)\t0.010606535427156859\n",
      "  (17779, 2983)\t0.010606535427157067\n",
      "  (17779, 2984)\t0.010606535427156848\n",
      "  (17779, 2985)\t0.012990665230675996\n",
      "  (17779, 2986)\t0.01060653542715683\n",
      "  (17779, 2987)\t0.010606535427157563\n",
      "  (17779, 2988)\t0.010606535427156892\n",
      "  (17779, 2989)\t0.010606535427156717\n",
      "  (17779, 2990)\t0.010606535427156734\n",
      "  (17779, 2991)\t0.0106065354271567\n",
      "  (17779, 2992)\t0.010606535427156833\n",
      "  (17779, 2993)\t0.010606535427157539\n",
      "  (17779, 2994)\t0.010606535427157194\n",
      "  (17779, 2995)\t0.010606535427158207\n",
      "  (17779, 2996)\t0.010606535427156703\n",
      "  (17779, 2997)\t0.010606535427157088\n",
      "  (17779, 2998)\t0.010606535427156841\n",
      "  (17779, 2999)\t0.010606535427157131\n"
     ]
    }
   ],
   "source": [
    "from numpy import absolute\n",
    "X =absolute( StandardScaler().fit_transform(Y))\n",
    "print(X)\n",
    "\n",
    "X_sparse = csr_matrix(X)\n",
    "print(X_sparse)\n"
   ]
  },
  {
   "cell_type": "code",
   "execution_count": 13,
   "id": "246c93a4",
   "metadata": {},
   "outputs": [
    {
     "name": "stdout",
     "output_type": "stream",
     "text": [
      "(17780, 10)\n",
      "\n",
      "[[4.20549223e-01 9.05470256e-08 1.59819736e-06 ... 1.39377425e-07\n",
      "  1.63085987e-06 5.27701707e-07]\n",
      " [2.51671420e+00 1.52930694e+00 3.93623011e-01 ... 7.77539016e-01\n",
      "  1.83084864e+00 1.21834398e+00]\n",
      " [4.20549223e-01 9.05470256e-08 1.59819736e-06 ... 1.39377425e-07\n",
      "  1.63085987e-06 5.27701707e-07]\n",
      " ...\n",
      " [4.20549223e-01 9.05470256e-08 1.59819736e-06 ... 1.39377425e-07\n",
      "  1.63085987e-06 5.27701707e-07]\n",
      " [4.20549223e-01 9.05470256e-08 1.59819736e-06 ... 1.39377425e-07\n",
      "  1.63085987e-06 5.27701707e-07]\n",
      " [2.37124889e+00 3.21829599e-01 1.75203889e-01 ... 9.30699266e-01\n",
      "  1.41653676e-01 1.40733240e+00]]\n"
     ]
    }
   ],
   "source": [
    "from numpy import absolute\n",
    "tsvd = TruncatedSVD(n_components=10)\n",
    "\n",
    "X_sparse_tsvd = tsvd.fit(X_sparse).transform(X_sparse)\n",
    "\n",
    "Z=absolute(X_sparse_tsvd)\n",
    "print(Z.shape)\n",
    "print(); print(Z)"
   ]
  },
  {
   "cell_type": "code",
   "execution_count": 14,
   "id": "5ffcb36d",
   "metadata": {},
   "outputs": [
    {
     "data": {
      "text/plain": [
       "0         neutral\n",
       "1         neutral\n",
       "2         neutral\n",
       "3        positive\n",
       "4         neutral\n",
       "           ...   \n",
       "17775     neutral\n",
       "17776     neutral\n",
       "17777     neutral\n",
       "17778     neutral\n",
       "17779     neutral\n",
       "Name: sentiment, Length: 17780, dtype: object"
      ]
     },
     "execution_count": 14,
     "metadata": {},
     "output_type": "execute_result"
    }
   ],
   "source": [
    "w=messages['sentiment']\n",
    "w"
   ]
  },
  {
   "cell_type": "code",
   "execution_count": 15,
   "id": "33de2259",
   "metadata": {},
   "outputs": [],
   "source": [
    "# Split-out validation dataset\n",
    "from sklearn.model_selection import train_test_split\n",
    "X_train, X_validation, Y_train, Y_validation = train_test_split(Z, w, test_size=0.20, random_state=1)"
   ]
  },
  {
   "cell_type": "code",
   "execution_count": 16,
   "id": "5e1a2531",
   "metadata": {},
   "outputs": [],
   "source": [
    "from pandas import read_csv\n",
    "from pandas.plotting import scatter_matrix\n",
    "from matplotlib import pyplot\n",
    "from sklearn.model_selection import train_test_split\n",
    "from sklearn.model_selection import cross_val_score\n",
    "from sklearn.model_selection import StratifiedKFold\n",
    "from sklearn.metrics import classification_report\n",
    "from sklearn.metrics import confusion_matrix\n",
    "from sklearn.metrics import accuracy_score\n",
    "from sklearn.linear_model import LogisticRegression\n",
    "from sklearn.tree import DecisionTreeClassifier\n",
    "from sklearn.neighbors import KNeighborsClassifier\n",
    "from sklearn.discriminant_analysis import LinearDiscriminantAnalysis\n",
    "from sklearn.naive_bayes import GaussianNB\n",
    "from sklearn.svm import SVC"
   ]
  },
  {
   "cell_type": "code",
   "execution_count": 17,
   "id": "74775446",
   "metadata": {},
   "outputs": [
    {
     "name": "stdout",
     "output_type": "stream",
     "text": [
      "LR: 0.963864 (0.000332) time taken (1.697397)\n",
      "score (0.9662542182227222, 0.9662542182227222, 0.9662542182227222, None)\n",
      "LDA: 0.963864 (0.000332) time taken (1.106414)\n",
      "score (0.9662542182227222, 0.9662542182227222, 0.9662542182227222, None)\n",
      "KNN: 0.963864 (0.000332) time taken (13.104377)\n",
      "score (0.9662542182227222, 0.9662542182227222, 0.9662542182227222, None)\n",
      "CART: 0.956271 (0.003074) time taken (1.359301)\n",
      "score (0.9597862767154106, 0.9597862767154106, 0.9597862767154106, None)\n",
      "NB: 0.888248 (0.222303) time taken (0.476752)\n",
      "score (0.9656917885264342, 0.9656917885264342, 0.9656917885264342, None)\n",
      "SVM: 0.963864 (0.000332) time taken (20.278898)\n",
      "score (0.9662542182227222, 0.9662542182227222, 0.9662542182227222, None)\n"
     ]
    }
   ],
   "source": [
    " #Spot Check Algorithms\n",
    "from sklearn.metrics import precision_recall_fscore_support\n",
    "from sklearn.metrics import classification_report\n",
    "import numpy\n",
    "import time\n",
    "models = []\n",
    "models.append(('LR', LogisticRegression(solver='liblinear', multi_class='ovr')))\n",
    "models.append(('LDA', LinearDiscriminantAnalysis()))\n",
    "models.append(('KNN', KNeighborsClassifier()))\n",
    "models.append(('CART', DecisionTreeClassifier()))\n",
    "models.append(('NB', GaussianNB()))\n",
    "models.append(('SVM', SVC(gamma='auto')))\n",
    "# evaluate each model in turn\n",
    "results = []\n",
    "names = []\n",
    "for name, model in models:\n",
    "\tkfold = StratifiedKFold(n_splits=10, random_state=1, shuffle=True)\n",
    "\tstart=time.time()\n",
    "\tcv_results = cross_val_score(model, X_train, Y_train, cv=kfold, scoring='accuracy')\n",
    "\tmodel1=model.fit(X_train,Y_train)\n",
    "\ty_pred=model1.predict(X_validation)    \n",
    "\tend=time.time()\n",
    "\tresults.append(cv_results)\n",
    "\tnames.append(name)\n",
    "\tprint('%s: %f (%f) %s (%f)' % (name, cv_results.mean(), cv_results.std(),'time taken',end-start))\n",
    "\tscore1=precision_recall_fscore_support(Y_validation.astype(str),y_pred.astype(str),labels=['neutral','negative','positive'],average='micro',zero_division=1)   \n",
    "\tprint(\"score\",score1)\n"
   ]
  },
  {
   "cell_type": "code",
   "execution_count": 18,
   "id": "bcf711e2",
   "metadata": {},
   "outputs": [],
   "source": [
    "from sklearn.naive_bayes import MultinomialNB\n",
    "from sklearn.naive_bayes import BernoulliNB\n",
    "from sklearn.ensemble import RandomForestClassifier\n",
    "from sklearn.metrics import accuracy_score\n",
    "\n",
    "from sklearn.svm import LinearSVC\n",
    "from sklearn.ensemble import AdaBoostClassifier\n",
    "from sklearn.linear_model import RidgeClassifier\n",
    "from sklearn.linear_model import PassiveAggressiveClassifier\n",
    "from sklearn.linear_model import Perceptron\n",
    "from sklearn.neural_network import MLPClassifier"
   ]
  },
  {
   "cell_type": "code",
   "execution_count": 20,
   "id": "9df24e66",
   "metadata": {},
   "outputs": [
    {
     "name": "stdout",
     "output_type": "stream",
     "text": [
      "MultiNB: 0.963864 (0.000332) time taken (0.741697)\n",
      "score (0.9662542182227222, 0.9662542182227222, 0.9662542182227222, None)\n",
      "BerNB: 0.963864 (0.000332) time taken (0.823938)\n",
      "score (0.9662542182227222, 0.9662542182227222, 0.9662542182227222, None)\n",
      "LR: 0.963864 (0.000332) time taken (1.606296)\n",
      "score (0.9662542182227222, 0.9662542182227222, 0.9662542182227222, None)\n",
      "LinearSVC: 0.963864 (0.000332) time taken (571.711854)\n",
      "score (0.9662542182227222, 0.9662542182227222, 0.9662542182227222, None)\n",
      "Adab: 0.962317 (0.002722) time taken (26.824840)\n",
      "score (0.9662542182227222, 0.9662542182227222, 0.9662542182227222, None)\n",
      "Ridge: 0.963864 (0.000332) time taken (0.985198)\n",
      "score (0.9662542182227222, 0.9662542182227222, 0.9662542182227222, None)\n",
      "PassiveAC: 0.962598 (0.003721) time taken (0.977925)\n",
      "score (0.9662542182227222, 0.9662542182227222, 0.9662542182227222, None)\n",
      "Perceptron: 0.891220 (0.217842) time taken (0.923279)\n",
      "score (0.9662542182227222, 0.9662542182227222, 0.9662542182227222, None)\n",
      "RFT: 0.961755 (0.002130) time taken (29.645627)\n",
      "score (0.9640044994375703, 0.9640044994375703, 0.9640044994375703, None)\n",
      "MLP: 0.963442 (0.000626) time taken (415.309493)\n",
      "score (0.9651293588301463, 0.9651293588301463, 0.9651293588301463, None)\n"
     ]
    }
   ],
   "source": [
    "# Spot Check Algorithms\n",
    "models = []\n",
    "\n",
    "models.append(('MultiNB', MultinomialNB()))\n",
    "models.append(('BerNB', BernoulliNB()))\n",
    "models.append(('LR', LogisticRegression(solver='liblinear', multi_class='ovr')))\n",
    "models.append(('LinearSVC', LinearSVC(max_iter=5000)))\n",
    "models.append(('Adab', AdaBoostClassifier()))\n",
    "models.append(('Ridge', RidgeClassifier()))\n",
    "models.append(('PassiveAC', PassiveAggressiveClassifier()))\n",
    "models.append(('Perceptron',  Perceptron()))\n",
    "models.append(('RFT', RandomForestClassifier()))\n",
    "models.append(('MLP', MLPClassifier(max_iter=1000)))\n",
    "# evaluate each model in turn\n",
    "results = []\n",
    "names = []\n",
    "accuracy=[]\n",
    "for name, model in models:\n",
    "\tkfold = StratifiedKFold(n_splits=10, random_state=1, shuffle=True)\n",
    "\tstart=time.time()\n",
    "\tcv_results = cross_val_score(model, X_train, Y_train, cv=kfold, scoring='accuracy')\n",
    "\tmodel1=model.fit(X_train,Y_train)\n",
    "\ty_pred=model1.predict(X_validation)    \n",
    "\tend=time.time()\n",
    "\tresults.append(cv_results)\n",
    "\tnames.append(name)\n",
    "\tprint('%s: %f (%f) %s (%f)' % (name, cv_results.mean(), cv_results.std(),'time taken',end-start))\n",
    "\tscore1=precision_recall_fscore_support(Y_validation.astype(str),y_pred.astype(str),labels=['neutral','negative','positive'],average='micro',zero_division=1)   \n",
    "\tprint(\"score\",score1)\n",
    "   "
   ]
  },
  {
   "cell_type": "code",
   "execution_count": null,
   "id": "91de89d7",
   "metadata": {},
   "outputs": [],
   "source": []
  }
 ],
 "metadata": {
  "kernelspec": {
   "display_name": "Python 3 (ipykernel)",
   "language": "python",
   "name": "python3"
  },
  "language_info": {
   "codemirror_mode": {
    "name": "ipython",
    "version": 3
   },
   "file_extension": ".py",
   "mimetype": "text/x-python",
   "name": "python",
   "nbconvert_exporter": "python",
   "pygments_lexer": "ipython3",
   "version": "3.8.8"
  }
 },
 "nbformat": 4,
 "nbformat_minor": 5
}
